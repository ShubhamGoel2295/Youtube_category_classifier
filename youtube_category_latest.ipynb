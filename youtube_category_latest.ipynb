{
 "cells": [
  {
   "cell_type": "code",
   "execution_count": 122,
   "metadata": {},
   "outputs": [
    {
     "name": "stderr",
     "output_type": "stream",
     "text": [
      "UsageError: Line magic function `%matpllotlib` not found.\n"
     ]
    }
   ],
   "source": [
    "import pandas as pd\n",
    "import numpy as np\n",
    "import matplotlib.pyplot as plt\n",
    "import seaborn as sns\n",
    "import pickle\n",
    "import nltk\n",
    "from nltk.stem.porter import PorterStemmer\n",
    "from nltk.stem import WordNetLemmatizer\n",
    "import string\n",
    "from nltk.corpus import stopwords\n",
    "import re\n",
    "% matpllotlib inline"
   ]
  },
  {
   "cell_type": "code",
   "execution_count": 2,
   "metadata": {},
   "outputs": [
    {
     "data": {
      "text/html": [
       "<div>\n",
       "<style scoped>\n",
       "    .dataframe tbody tr th:only-of-type {\n",
       "        vertical-align: middle;\n",
       "    }\n",
       "\n",
       "    .dataframe tbody tr th {\n",
       "        vertical-align: top;\n",
       "    }\n",
       "\n",
       "    .dataframe thead th {\n",
       "        text-align: right;\n",
       "    }\n",
       "</style>\n",
       "<table border=\"1\" class=\"dataframe\">\n",
       "  <thead>\n",
       "    <tr style=\"text-align: right;\">\n",
       "      <th></th>\n",
       "      <th>link</th>\n",
       "      <th>title</th>\n",
       "      <th>Description</th>\n",
       "      <th>Category</th>\n",
       "    </tr>\n",
       "  </thead>\n",
       "  <tbody>\n",
       "    <tr>\n",
       "      <th>0</th>\n",
       "      <td>U8X-fd_zQQ</td>\n",
       "      <td>12 Cool Science Tricks That Will Make Your Fri...</td>\n",
       "      <td>Impress your friends this weekend with these 1...</td>\n",
       "      <td>Science</td>\n",
       "    </tr>\n",
       "    <tr>\n",
       "      <th>1</th>\n",
       "      <td>VoLZXXQL-YY</td>\n",
       "      <td>9 Incredible Science Facts You Probably Didn't...</td>\n",
       "      <td>Common scientific facts you won't believe are ...</td>\n",
       "      <td>Science</td>\n",
       "    </tr>\n",
       "    <tr>\n",
       "      <th>2</th>\n",
       "      <td>DZcofvSqLHI</td>\n",
       "      <td>5 Amazing Experiments With Hand Sanitizer || E...</td>\n",
       "      <td>5 Simple Science Experiments With Hand Sanitiz...</td>\n",
       "      <td>Science</td>\n",
       "    </tr>\n",
       "    <tr>\n",
       "      <th>3</th>\n",
       "      <td>OY6RgrDKQ</td>\n",
       "      <td>18 EASY SCHOOL MAGIC TRICKS AND SCIENCE EXPERI...</td>\n",
       "      <td>UNEXPECTED TRICKS AND IDEAS FOR KIDS\\n\\nThere ...</td>\n",
       "      <td>Science</td>\n",
       "    </tr>\n",
       "    <tr>\n",
       "      <th>4</th>\n",
       "      <td>i_2PtL7cRyE</td>\n",
       "      <td>विज्ञान के सबसे घातक प्रयोग Terrible Science E...</td>\n",
       "      <td>mYTH Tv India\\n#MTI7</td>\n",
       "      <td>Science</td>\n",
       "    </tr>\n",
       "  </tbody>\n",
       "</table>\n",
       "</div>"
      ],
      "text/plain": [
       "          link                                              title  \\\n",
       "0   U8X-fd_zQQ  12 Cool Science Tricks That Will Make Your Fri...   \n",
       "1  VoLZXXQL-YY  9 Incredible Science Facts You Probably Didn't...   \n",
       "2  DZcofvSqLHI  5 Amazing Experiments With Hand Sanitizer || E...   \n",
       "3    OY6RgrDKQ  18 EASY SCHOOL MAGIC TRICKS AND SCIENCE EXPERI...   \n",
       "4  i_2PtL7cRyE  विज्ञान के सबसे घातक प्रयोग Terrible Science E...   \n",
       "\n",
       "                                         Description Category  \n",
       "0  Impress your friends this weekend with these 1...  Science  \n",
       "1  Common scientific facts you won't believe are ...  Science  \n",
       "2  5 Simple Science Experiments With Hand Sanitiz...  Science  \n",
       "3  UNEXPECTED TRICKS AND IDEAS FOR KIDS\\n\\nThere ...  Science  \n",
       "4                               mYTH Tv India\\n#MTI7  Science  "
      ]
     },
     "execution_count": 2,
     "metadata": {},
     "output_type": "execute_result"
    }
   ],
   "source": [
    "read_df= pd.read_csv(r'C:\\Users\\egoeshu\\Desktop\\testingdoc\\Youtube classifer ML\\youtube_classifier_data_latest.csv')\n",
    "read_df.head()"
   ]
  },
  {
   "cell_type": "code",
   "execution_count": 4,
   "metadata": {},
   "outputs": [
    {
     "data": {
      "text/html": [
       "<div>\n",
       "<style scoped>\n",
       "    .dataframe tbody tr th:only-of-type {\n",
       "        vertical-align: middle;\n",
       "    }\n",
       "\n",
       "    .dataframe tbody tr th {\n",
       "        vertical-align: top;\n",
       "    }\n",
       "\n",
       "    .dataframe thead th {\n",
       "        text-align: right;\n",
       "    }\n",
       "</style>\n",
       "<table border=\"1\" class=\"dataframe\">\n",
       "  <thead>\n",
       "    <tr style=\"text-align: right;\">\n",
       "      <th></th>\n",
       "      <th>link</th>\n",
       "      <th>title</th>\n",
       "      <th>Description</th>\n",
       "      <th>Category</th>\n",
       "    </tr>\n",
       "  </thead>\n",
       "  <tbody>\n",
       "    <tr>\n",
       "      <th>0</th>\n",
       "      <td>U8X-fd_zQQ</td>\n",
       "      <td>12 Cool Science Tricks That Will Make Your Fri...</td>\n",
       "      <td>Impress your friends this weekend with these 1...</td>\n",
       "      <td>Science</td>\n",
       "    </tr>\n",
       "    <tr>\n",
       "      <th>1</th>\n",
       "      <td>VoLZXXQL-YY</td>\n",
       "      <td>9 Incredible Science Facts You Probably Didn't...</td>\n",
       "      <td>Common scientific facts you won't believe are ...</td>\n",
       "      <td>Science</td>\n",
       "    </tr>\n",
       "    <tr>\n",
       "      <th>2</th>\n",
       "      <td>DZcofvSqLHI</td>\n",
       "      <td>5 Amazing Experiments With Hand Sanitizer || E...</td>\n",
       "      <td>5 Simple Science Experiments With Hand Sanitiz...</td>\n",
       "      <td>Science</td>\n",
       "    </tr>\n",
       "    <tr>\n",
       "      <th>3</th>\n",
       "      <td>OY6RgrDKQ</td>\n",
       "      <td>18 EASY SCHOOL MAGIC TRICKS AND SCIENCE EXPERI...</td>\n",
       "      <td>UNEXPECTED TRICKS AND IDEAS FOR KIDS\\n\\nThere ...</td>\n",
       "      <td>Science</td>\n",
       "    </tr>\n",
       "    <tr>\n",
       "      <th>4</th>\n",
       "      <td>i_2PtL7cRyE</td>\n",
       "      <td>विज्ञान के सबसे घातक प्रयोग Terrible Science E...</td>\n",
       "      <td>mYTH Tv India\\n#MTI7</td>\n",
       "      <td>Science</td>\n",
       "    </tr>\n",
       "  </tbody>\n",
       "</table>\n",
       "</div>"
      ],
      "text/plain": [
       "          link                                              title  \\\n",
       "0   U8X-fd_zQQ  12 Cool Science Tricks That Will Make Your Fri...   \n",
       "1  VoLZXXQL-YY  9 Incredible Science Facts You Probably Didn't...   \n",
       "2  DZcofvSqLHI  5 Amazing Experiments With Hand Sanitizer || E...   \n",
       "3    OY6RgrDKQ  18 EASY SCHOOL MAGIC TRICKS AND SCIENCE EXPERI...   \n",
       "4  i_2PtL7cRyE  विज्ञान के सबसे घातक प्रयोग Terrible Science E...   \n",
       "\n",
       "                                         Description Category  \n",
       "0  Impress your friends this weekend with these 1...  Science  \n",
       "1  Common scientific facts you won't believe are ...  Science  \n",
       "2  5 Simple Science Experiments With Hand Sanitiz...  Science  \n",
       "3  UNEXPECTED TRICKS AND IDEAS FOR KIDS\\n\\nThere ...  Science  \n",
       "4                               mYTH Tv India\\n#MTI7  Science  "
      ]
     },
     "execution_count": 4,
     "metadata": {},
     "output_type": "execute_result"
    }
   ],
   "source": [
    "temp= read_df.copy()\n",
    "temp.head()"
   ]
  },
  {
   "cell_type": "code",
   "execution_count": 5,
   "metadata": {},
   "outputs": [
    {
     "name": "stdout",
     "output_type": "stream",
     "text": [
      "<class 'pandas.core.frame.DataFrame'>\n",
      "RangeIndex: 223 entries, 0 to 222\n",
      "Data columns (total 4 columns):\n",
      " #   Column       Non-Null Count  Dtype \n",
      "---  ------       --------------  ----- \n",
      " 0   link         223 non-null    object\n",
      " 1   title        223 non-null    object\n",
      " 2   Description  223 non-null    object\n",
      " 3   Category     223 non-null    object\n",
      "dtypes: object(4)\n",
      "memory usage: 7.1+ KB\n"
     ]
    }
   ],
   "source": [
    "temp.info() # so no null value found in any column"
   ]
  },
  {
   "cell_type": "code",
   "execution_count": 6,
   "metadata": {},
   "outputs": [
    {
     "data": {
      "text/plain": [
       "link           0\n",
       "title          0\n",
       "Description    0\n",
       "Category       0\n",
       "dtype: int64"
      ]
     },
     "execution_count": 6,
     "metadata": {},
     "output_type": "execute_result"
    }
   ],
   "source": [
    "# checking null values\n",
    "temp.isna().sum()"
   ]
  },
  {
   "cell_type": "code",
   "execution_count": 7,
   "metadata": {},
   "outputs": [
    {
     "data": {
      "text/html": [
       "<div>\n",
       "<style scoped>\n",
       "    .dataframe tbody tr th:only-of-type {\n",
       "        vertical-align: middle;\n",
       "    }\n",
       "\n",
       "    .dataframe tbody tr th {\n",
       "        vertical-align: top;\n",
       "    }\n",
       "\n",
       "    .dataframe thead th {\n",
       "        text-align: right;\n",
       "    }\n",
       "</style>\n",
       "<table border=\"1\" class=\"dataframe\">\n",
       "  <thead>\n",
       "    <tr style=\"text-align: right;\">\n",
       "      <th></th>\n",
       "      <th>link</th>\n",
       "      <th>title</th>\n",
       "      <th>Description</th>\n",
       "      <th>Category</th>\n",
       "    </tr>\n",
       "  </thead>\n",
       "  <tbody>\n",
       "    <tr>\n",
       "      <th>count</th>\n",
       "      <td>223</td>\n",
       "      <td>223</td>\n",
       "      <td>223</td>\n",
       "      <td>223</td>\n",
       "    </tr>\n",
       "    <tr>\n",
       "      <th>unique</th>\n",
       "      <td>209</td>\n",
       "      <td>205</td>\n",
       "      <td>207</td>\n",
       "      <td>4</td>\n",
       "    </tr>\n",
       "    <tr>\n",
       "      <th>top</th>\n",
       "      <td>fE8lezHs19</td>\n",
       "      <td>Hindi Heart touching Song 2020 💖 Bollywood Hit...</td>\n",
       "      <td>Check out https://ExpressVPN.com/thefoodranger...</td>\n",
       "      <td>Songs</td>\n",
       "    </tr>\n",
       "    <tr>\n",
       "      <th>freq</th>\n",
       "      <td>2</td>\n",
       "      <td>4</td>\n",
       "      <td>2</td>\n",
       "      <td>62</td>\n",
       "    </tr>\n",
       "  </tbody>\n",
       "</table>\n",
       "</div>"
      ],
      "text/plain": [
       "              link                                              title  \\\n",
       "count          223                                                223   \n",
       "unique         209                                                205   \n",
       "top     fE8lezHs19  Hindi Heart touching Song 2020 💖 Bollywood Hit...   \n",
       "freq             2                                                  4   \n",
       "\n",
       "                                              Description Category  \n",
       "count                                                 223      223  \n",
       "unique                                                207        4  \n",
       "top     Check out https://ExpressVPN.com/thefoodranger...    Songs  \n",
       "freq                                                    2       62  "
      ]
     },
     "execution_count": 7,
     "metadata": {},
     "output_type": "execute_result"
    }
   ],
   "source": [
    "temp.describe()"
   ]
  },
  {
   "cell_type": "code",
   "execution_count": 8,
   "metadata": {},
   "outputs": [
    {
     "data": {
      "text/plain": [
       "link           0\n",
       "title          0\n",
       "Description    0\n",
       "Category       0\n",
       "dtype: int64"
      ]
     },
     "execution_count": 8,
     "metadata": {},
     "output_type": "execute_result"
    }
   ],
   "source": [
    "#seeing null values\n",
    "temp.isnull().sum()"
   ]
  },
  {
   "cell_type": "code",
   "execution_count": 9,
   "metadata": {},
   "outputs": [
    {
     "data": {
      "text/plain": [
       "<matplotlib.axes._subplots.AxesSubplot at 0x27c9fa27b48>"
      ]
     },
     "execution_count": 9,
     "metadata": {},
     "output_type": "execute_result"
    },
    {
     "data": {
      "image/png": "[encoded data removed]",
      "text/plain": [
       "<Figure size 432x288 with 1 Axes>"
      ]
     },
     "metadata": {
      "needs_background": "light"
     },
     "output_type": "display_data"
    }
   ],
   "source": [
    "# checking the target variable i.e Category frequency\n",
    "sns.countplot('Category', data=temp) # All are equal so no imbalanced dataset"
   ]
  },
  {
   "cell_type": "code",
   "execution_count": 82,
   "metadata": {},
   "outputs": [
    {
     "data": {
      "text/plain": [
       "<matplotlib.axes._subplots.AxesSubplot at 0x27ca293a288>"
      ]
     },
     "execution_count": 82,
     "metadata": {},
     "output_type": "execute_result"
    },
    {
     "data": {
      "image/png": "[encoded data removed]",
      "text/plain": [
       "<Figure size 1728x720 with 3 Axes>"
      ]
     },
     "metadata": {
      "needs_background": "light"
     },
     "output_type": "display_data"
    }
   ],
   "source": [
    "# To check null values in each column\n",
    "\n",
    "import missingno as ms\n",
    "ms.bar(temp)"
   ]
  },
  {
   "cell_type": "markdown",
   "metadata": {},
   "source": [
    "#### EDA on Description Column"
   ]
  },
  {
   "cell_type": "code",
   "execution_count": 10,
   "metadata": {},
   "outputs": [],
   "source": [
    "# Checking length of description of Description Column\n",
    "temp['Descrip_length']= temp['Description'].apply(len)"
   ]
  },
  {
   "cell_type": "code",
   "execution_count": 11,
   "metadata": {},
   "outputs": [
    {
     "data": {
      "text/html": [
       "<div>\n",
       "<style scoped>\n",
       "    .dataframe tbody tr th:only-of-type {\n",
       "        vertical-align: middle;\n",
       "    }\n",
       "\n",
       "    .dataframe tbody tr th {\n",
       "        vertical-align: top;\n",
       "    }\n",
       "\n",
       "    .dataframe thead th {\n",
       "        text-align: right;\n",
       "    }\n",
       "</style>\n",
       "<table border=\"1\" class=\"dataframe\">\n",
       "  <thead>\n",
       "    <tr style=\"text-align: right;\">\n",
       "      <th></th>\n",
       "      <th>link</th>\n",
       "      <th>title</th>\n",
       "      <th>Description</th>\n",
       "      <th>Category</th>\n",
       "      <th>Descrip_length</th>\n",
       "    </tr>\n",
       "  </thead>\n",
       "  <tbody>\n",
       "    <tr>\n",
       "      <th>0</th>\n",
       "      <td>U8X-fd_zQQ</td>\n",
       "      <td>12 Cool Science Tricks That Will Make Your Fri...</td>\n",
       "      <td>Impress your friends this weekend with these 1...</td>\n",
       "      <td>Science</td>\n",
       "      <td>241</td>\n",
       "    </tr>\n",
       "    <tr>\n",
       "      <th>1</th>\n",
       "      <td>VoLZXXQL-YY</td>\n",
       "      <td>9 Incredible Science Facts You Probably Didn't...</td>\n",
       "      <td>Common scientific facts you won't believe are ...</td>\n",
       "      <td>Science</td>\n",
       "      <td>274</td>\n",
       "    </tr>\n",
       "    <tr>\n",
       "      <th>2</th>\n",
       "      <td>DZcofvSqLHI</td>\n",
       "      <td>5 Amazing Experiments With Hand Sanitizer || E...</td>\n",
       "      <td>5 Simple Science Experiments With Hand Sanitiz...</td>\n",
       "      <td>Science</td>\n",
       "      <td>973</td>\n",
       "    </tr>\n",
       "    <tr>\n",
       "      <th>3</th>\n",
       "      <td>OY6RgrDKQ</td>\n",
       "      <td>18 EASY SCHOOL MAGIC TRICKS AND SCIENCE EXPERI...</td>\n",
       "      <td>UNEXPECTED TRICKS AND IDEAS FOR KIDS\\n\\nThere ...</td>\n",
       "      <td>Science</td>\n",
       "      <td>1496</td>\n",
       "    </tr>\n",
       "    <tr>\n",
       "      <th>4</th>\n",
       "      <td>i_2PtL7cRyE</td>\n",
       "      <td>विज्ञान के सबसे घातक प्रयोग Terrible Science E...</td>\n",
       "      <td>mYTH Tv India\\n#MTI7</td>\n",
       "      <td>Science</td>\n",
       "      <td>19</td>\n",
       "    </tr>\n",
       "  </tbody>\n",
       "</table>\n",
       "</div>"
      ],
      "text/plain": [
       "          link                                              title  \\\n",
       "0   U8X-fd_zQQ  12 Cool Science Tricks That Will Make Your Fri...   \n",
       "1  VoLZXXQL-YY  9 Incredible Science Facts You Probably Didn't...   \n",
       "2  DZcofvSqLHI  5 Amazing Experiments With Hand Sanitizer || E...   \n",
       "3    OY6RgrDKQ  18 EASY SCHOOL MAGIC TRICKS AND SCIENCE EXPERI...   \n",
       "4  i_2PtL7cRyE  विज्ञान के सबसे घातक प्रयोग Terrible Science E...   \n",
       "\n",
       "                                         Description Category  Descrip_length  \n",
       "0  Impress your friends this weekend with these 1...  Science             241  \n",
       "1  Common scientific facts you won't believe are ...  Science             274  \n",
       "2  5 Simple Science Experiments With Hand Sanitiz...  Science             973  \n",
       "3  UNEXPECTED TRICKS AND IDEAS FOR KIDS\\n\\nThere ...  Science            1496  \n",
       "4                               mYTH Tv India\\n#MTI7  Science              19  "
      ]
     },
     "execution_count": 11,
     "metadata": {},
     "output_type": "execute_result"
    }
   ],
   "source": [
    "temp.head()"
   ]
  },
  {
   "cell_type": "code",
   "execution_count": 12,
   "metadata": {},
   "outputs": [
    {
     "data": {
      "text/plain": [
       "<matplotlib.axes._subplots.AxesSubplot at 0x27ca01ae448>"
      ]
     },
     "execution_count": 12,
     "metadata": {},
     "output_type": "execute_result"
    },
    {
     "data": {
      "image/png": "[encoded data removed]",
      "text/plain": [
       "<Figure size 432x288 with 1 Axes>"
      ]
     },
     "metadata": {
      "needs_background": "light"
     },
     "output_type": "display_data"
    }
   ],
   "source": [
    "sns.distplot(temp['Descrip_length'], bins=50)# there are some outliers"
   ]
  },
  {
   "cell_type": "code",
   "execution_count": 13,
   "metadata": {},
   "outputs": [
    {
     "data": {
      "text/plain": [
       "count     223.000000\n",
       "mean      415.125561\n",
       "std       513.859677\n",
       "min        19.000000\n",
       "25%       158.500000\n",
       "50%       252.000000\n",
       "75%       493.000000\n",
       "max      4570.000000\n",
       "Name: Descrip_length, dtype: float64"
      ]
     },
     "execution_count": 13,
     "metadata": {},
     "output_type": "execute_result"
    }
   ],
   "source": [
    "# checking more info related to length\n",
    "temp['Descrip_length'].describe()"
   ]
  },
  {
   "cell_type": "code",
   "execution_count": 14,
   "metadata": {},
   "outputs": [
    {
     "data": {
      "text/html": [
       "<div>\n",
       "<style scoped>\n",
       "    .dataframe tbody tr th:only-of-type {\n",
       "        vertical-align: middle;\n",
       "    }\n",
       "\n",
       "    .dataframe tbody tr th {\n",
       "        vertical-align: top;\n",
       "    }\n",
       "\n",
       "    .dataframe thead th {\n",
       "        text-align: right;\n",
       "    }\n",
       "</style>\n",
       "<table border=\"1\" class=\"dataframe\">\n",
       "  <thead>\n",
       "    <tr style=\"text-align: right;\">\n",
       "      <th></th>\n",
       "      <th>link</th>\n",
       "      <th>title</th>\n",
       "      <th>Description</th>\n",
       "      <th>Category</th>\n",
       "      <th>Descrip_length</th>\n",
       "    </tr>\n",
       "  </thead>\n",
       "  <tbody>\n",
       "    <tr>\n",
       "      <th>29</th>\n",
       "      <td>3fYNON3Y_yQ</td>\n",
       "      <td>Top 17 hybrid animals created by scientists yo...</td>\n",
       "      <td>Top 17 hybrid animals created by scientists yo...</td>\n",
       "      <td>Science</td>\n",
       "      <td>3903</td>\n",
       "    </tr>\n",
       "    <tr>\n",
       "      <th>61</th>\n",
       "      <td>LHr1na5DZ44</td>\n",
       "      <td>101 Indian Street Food Dishes to Eat Before Yo...</td>\n",
       "      <td>🧳 101 Indian Street Food Dishes Kindle Book: h...</td>\n",
       "      <td>Food</td>\n",
       "      <td>3066</td>\n",
       "    </tr>\n",
       "    <tr>\n",
       "      <th>189</th>\n",
       "      <td>WPni755-Krg</td>\n",
       "      <td>Study Music Alpha Waves: Relaxing Studying Mus...</td>\n",
       "      <td>Study Music Alpha Waves: Relaxing Studying Mus...</td>\n",
       "      <td>Songs</td>\n",
       "      <td>4570</td>\n",
       "    </tr>\n",
       "  </tbody>\n",
       "</table>\n",
       "</div>"
      ],
      "text/plain": [
       "            link                                              title  \\\n",
       "29   3fYNON3Y_yQ  Top 17 hybrid animals created by scientists yo...   \n",
       "61   LHr1na5DZ44  101 Indian Street Food Dishes to Eat Before Yo...   \n",
       "189  WPni755-Krg  Study Music Alpha Waves: Relaxing Studying Mus...   \n",
       "\n",
       "                                           Description Category  \\\n",
       "29   Top 17 hybrid animals created by scientists yo...  Science   \n",
       "61   🧳 101 Indian Street Food Dishes Kindle Book: h...     Food   \n",
       "189  Study Music Alpha Waves: Relaxing Studying Mus...    Songs   \n",
       "\n",
       "     Descrip_length  \n",
       "29             3903  \n",
       "61             3066  \n",
       "189            4570  "
      ]
     },
     "execution_count": 14,
     "metadata": {},
     "output_type": "execute_result"
    }
   ],
   "source": [
    "# checking how many rows having length more than 2000\n",
    "temp[temp['Descrip_length']>2000] "
   ]
  },
  {
   "cell_type": "code",
   "execution_count": 15,
   "metadata": {},
   "outputs": [
    {
     "data": {
      "text/plain": [
       "<matplotlib.axes._subplots.AxesSubplot at 0x27ca02c3108>"
      ]
     },
     "execution_count": 15,
     "metadata": {},
     "output_type": "execute_result"
    },
    {
     "data": {
      "image/png": "[encoded data removed]",
      "text/plain": [
       "<Figure size 432x288 with 1 Axes>"
      ]
     },
     "metadata": {
      "needs_background": "light"
     },
     "output_type": "display_data"
    }
   ],
   "source": [
    "sns.boxplot('Category', 'Descrip_length', data=temp)"
   ]
  },
  {
   "cell_type": "code",
   "execution_count": 16,
   "metadata": {},
   "outputs": [
    {
     "data": {
      "text/plain": [
       "'J. Cole - Lewis Street is available now: https://JCole.lnk.to/LewisStreet/'"
      ]
     },
     "execution_count": 16,
     "metadata": {},
     "output_type": "execute_result"
    }
   ],
   "source": [
    "a1= 'J. Cole - Lewis Street is available now: https://JCole.lnk.to/LewisStreet/\\nProduced by J. Cole\\n\\nEverything come back around full circle \\nWhy do lies sound pleasant but the truth hurtful\\nEverybody gotta cry once in a while '\n",
    "a1= a1.split('\\n')[0]\n",
    "a1"
   ]
  },
  {
   "cell_type": "code",
   "execution_count": 17,
   "metadata": {},
   "outputs": [
    {
     "data": {
      "text/html": [
       "<div>\n",
       "<style scoped>\n",
       "    .dataframe tbody tr th:only-of-type {\n",
       "        vertical-align: middle;\n",
       "    }\n",
       "\n",
       "    .dataframe tbody tr th {\n",
       "        vertical-align: top;\n",
       "    }\n",
       "\n",
       "    .dataframe thead th {\n",
       "        text-align: right;\n",
       "    }\n",
       "</style>\n",
       "<table border=\"1\" class=\"dataframe\">\n",
       "  <thead>\n",
       "    <tr style=\"text-align: right;\">\n",
       "      <th></th>\n",
       "      <th>link</th>\n",
       "      <th>title</th>\n",
       "      <th>Description</th>\n",
       "      <th>Category</th>\n",
       "      <th>Descrip_length</th>\n",
       "    </tr>\n",
       "  </thead>\n",
       "  <tbody>\n",
       "    <tr>\n",
       "      <th>29</th>\n",
       "      <td>3fYNON3Y_yQ</td>\n",
       "      <td>Top 17 hybrid animals created by scientists yo...</td>\n",
       "      <td>Top 17 hybrid animals created by scientists yo...</td>\n",
       "      <td>Science</td>\n",
       "      <td>3903</td>\n",
       "    </tr>\n",
       "    <tr>\n",
       "      <th>61</th>\n",
       "      <td>LHr1na5DZ44</td>\n",
       "      <td>101 Indian Street Food Dishes to Eat Before Yo...</td>\n",
       "      <td>🧳 101 Indian Street Food Dishes Kindle Book: h...</td>\n",
       "      <td>Food</td>\n",
       "      <td>3066</td>\n",
       "    </tr>\n",
       "    <tr>\n",
       "      <th>80</th>\n",
       "      <td>kvLv0Ne7-aU</td>\n",
       "      <td>japanese street food - okonomiyaki</td>\n",
       "      <td>Okonomiyaki  o-konomi-yaki is a Japanese savor...</td>\n",
       "      <td>Food</td>\n",
       "      <td>1846</td>\n",
       "    </tr>\n",
       "    <tr>\n",
       "      <th>85</th>\n",
       "      <td>6KdQzfhBRh0</td>\n",
       "      <td>35 CRAZY FOOD IDEAS THAT WILL BLOW YOUR MIND</td>\n",
       "      <td>CRAZY COOL DISHES TO MAKE AT HOME\\nCheck out a...</td>\n",
       "      <td>Food</td>\n",
       "      <td>1501</td>\n",
       "    </tr>\n",
       "    <tr>\n",
       "      <th>189</th>\n",
       "      <td>WPni755-Krg</td>\n",
       "      <td>Study Music Alpha Waves: Relaxing Studying Mus...</td>\n",
       "      <td>Study Music Alpha Waves: Relaxing Studying Mus...</td>\n",
       "      <td>Songs</td>\n",
       "      <td>4570</td>\n",
       "    </tr>\n",
       "    <tr>\n",
       "      <th>193</th>\n",
       "      <td>qFkNATtc3</td>\n",
       "      <td>Ghungroo Song | War | Hrithik Roshan, Vaani Ka...</td>\n",
       "      <td>#YRFnewreleases - https://www.youtube.com/play...</td>\n",
       "      <td>Songs</td>\n",
       "      <td>1860</td>\n",
       "    </tr>\n",
       "  </tbody>\n",
       "</table>\n",
       "</div>"
      ],
      "text/plain": [
       "            link                                              title  \\\n",
       "29   3fYNON3Y_yQ  Top 17 hybrid animals created by scientists yo...   \n",
       "61   LHr1na5DZ44  101 Indian Street Food Dishes to Eat Before Yo...   \n",
       "80   kvLv0Ne7-aU                 japanese street food - okonomiyaki   \n",
       "85   6KdQzfhBRh0       35 CRAZY FOOD IDEAS THAT WILL BLOW YOUR MIND   \n",
       "189  WPni755-Krg  Study Music Alpha Waves: Relaxing Studying Mus...   \n",
       "193    qFkNATtc3  Ghungroo Song | War | Hrithik Roshan, Vaani Ka...   \n",
       "\n",
       "                                           Description Category  \\\n",
       "29   Top 17 hybrid animals created by scientists yo...  Science   \n",
       "61   🧳 101 Indian Street Food Dishes Kindle Book: h...     Food   \n",
       "80   Okonomiyaki  o-konomi-yaki is a Japanese savor...     Food   \n",
       "85   CRAZY COOL DISHES TO MAKE AT HOME\\nCheck out a...     Food   \n",
       "189  Study Music Alpha Waves: Relaxing Studying Mus...    Songs   \n",
       "193  #YRFnewreleases - https://www.youtube.com/play...    Songs   \n",
       "\n",
       "     Descrip_length  \n",
       "29             3903  \n",
       "61             3066  \n",
       "80             1846  \n",
       "85             1501  \n",
       "189            4570  \n",
       "193            1860  "
      ]
     },
     "execution_count": 17,
     "metadata": {},
     "output_type": "execute_result"
    }
   ],
   "source": [
    "temp_len= temp[temp['Descrip_length']>1500]\n",
    "temp_len"
   ]
  },
  {
   "cell_type": "code",
   "execution_count": 18,
   "metadata": {},
   "outputs": [
    {
     "name": "stderr",
     "output_type": "stream",
     "text": [
      "C:\\Users\\egoeshu\\Anaconda3\\lib\\site-packages\\pandas\\core\\indexing.py:966: SettingWithCopyWarning: \n",
      "A value is trying to be set on a copy of a slice from a DataFrame.\n",
      "Try using .loc[row_indexer,col_indexer] = value instead\n",
      "\n",
      "See the caveats in the documentation: https://pandas.pydata.org/pandas-docs/stable/user_guide/indexing.html#returning-a-view-versus-a-copy\n",
      "  self.obj[item] = s\n"
     ]
    },
    {
     "data": {
      "text/html": [
       "<div>\n",
       "<style scoped>\n",
       "    .dataframe tbody tr th:only-of-type {\n",
       "        vertical-align: middle;\n",
       "    }\n",
       "\n",
       "    .dataframe tbody tr th {\n",
       "        vertical-align: top;\n",
       "    }\n",
       "\n",
       "    .dataframe thead th {\n",
       "        text-align: right;\n",
       "    }\n",
       "</style>\n",
       "<table border=\"1\" class=\"dataframe\">\n",
       "  <thead>\n",
       "    <tr style=\"text-align: right;\">\n",
       "      <th></th>\n",
       "      <th>link</th>\n",
       "      <th>title</th>\n",
       "      <th>Description</th>\n",
       "      <th>Category</th>\n",
       "      <th>Descrip_length</th>\n",
       "    </tr>\n",
       "  </thead>\n",
       "  <tbody>\n",
       "    <tr>\n",
       "      <th>29</th>\n",
       "      <td>3fYNON3Y_yQ</td>\n",
       "      <td>Top 17 hybrid animals created by scientists yo...</td>\n",
       "      <td>Top 17 hybrid animals created by scientists yo...</td>\n",
       "      <td>Science</td>\n",
       "      <td>3903</td>\n",
       "    </tr>\n",
       "    <tr>\n",
       "      <th>61</th>\n",
       "      <td>LHr1na5DZ44</td>\n",
       "      <td>101 Indian Street Food Dishes to Eat Before Yo...</td>\n",
       "      <td>🧳 101 Indian Street Food Dishes Kindle Book: h...</td>\n",
       "      <td>Food</td>\n",
       "      <td>3066</td>\n",
       "    </tr>\n",
       "    <tr>\n",
       "      <th>80</th>\n",
       "      <td>kvLv0Ne7-aU</td>\n",
       "      <td>japanese street food - okonomiyaki</td>\n",
       "      <td>Okonomiyaki  o-konomi-yaki is a Japanese savor...</td>\n",
       "      <td>Food</td>\n",
       "      <td>1846</td>\n",
       "    </tr>\n",
       "    <tr>\n",
       "      <th>85</th>\n",
       "      <td>6KdQzfhBRh0</td>\n",
       "      <td>35 CRAZY FOOD IDEAS THAT WILL BLOW YOUR MIND</td>\n",
       "      <td>CRAZY COOL DISHES TO MAKE AT HOME</td>\n",
       "      <td>Food</td>\n",
       "      <td>1501</td>\n",
       "    </tr>\n",
       "    <tr>\n",
       "      <th>189</th>\n",
       "      <td>WPni755-Krg</td>\n",
       "      <td>Study Music Alpha Waves: Relaxing Studying Mus...</td>\n",
       "      <td>Study Music Alpha Waves: Relaxing Studying Mus...</td>\n",
       "      <td>Songs</td>\n",
       "      <td>4570</td>\n",
       "    </tr>\n",
       "    <tr>\n",
       "      <th>193</th>\n",
       "      <td>qFkNATtc3</td>\n",
       "      <td>Ghungroo Song | War | Hrithik Roshan, Vaani Ka...</td>\n",
       "      <td>#YRFnewreleases - https://www.youtube.com/play...</td>\n",
       "      <td>Songs</td>\n",
       "      <td>1860</td>\n",
       "    </tr>\n",
       "  </tbody>\n",
       "</table>\n",
       "</div>"
      ],
      "text/plain": [
       "            link                                              title  \\\n",
       "29   3fYNON3Y_yQ  Top 17 hybrid animals created by scientists yo...   \n",
       "61   LHr1na5DZ44  101 Indian Street Food Dishes to Eat Before Yo...   \n",
       "80   kvLv0Ne7-aU                 japanese street food - okonomiyaki   \n",
       "85   6KdQzfhBRh0       35 CRAZY FOOD IDEAS THAT WILL BLOW YOUR MIND   \n",
       "189  WPni755-Krg  Study Music Alpha Waves: Relaxing Studying Mus...   \n",
       "193    qFkNATtc3  Ghungroo Song | War | Hrithik Roshan, Vaani Ka...   \n",
       "\n",
       "                                           Description Category  \\\n",
       "29   Top 17 hybrid animals created by scientists yo...  Science   \n",
       "61   🧳 101 Indian Street Food Dishes Kindle Book: h...     Food   \n",
       "80   Okonomiyaki  o-konomi-yaki is a Japanese savor...     Food   \n",
       "85                   CRAZY COOL DISHES TO MAKE AT HOME     Food   \n",
       "189  Study Music Alpha Waves: Relaxing Studying Mus...    Songs   \n",
       "193  #YRFnewreleases - https://www.youtube.com/play...    Songs   \n",
       "\n",
       "     Descrip_length  \n",
       "29             3903  \n",
       "61             3066  \n",
       "80             1846  \n",
       "85             1501  \n",
       "189            4570  \n",
       "193            1860  "
      ]
     },
     "execution_count": 18,
     "metadata": {},
     "output_type": "execute_result"
    }
   ],
   "source": [
    "# temp_len.loc[:,'Description']= temp_len[temp_len['Descrip_length']>2000]['Description'].apply(lambda x: x.split('\\n')[0])\n",
    "# temp_len\n",
    "temp_len.loc[temp_len.Descrip_length>1500, 'Description']= temp_len[temp_len['Descrip_length']>1500]['Description'].apply(lambda x: x.split('\\n')[0])\n",
    "temp_len"
   ]
  },
  {
   "cell_type": "code",
   "execution_count": 19,
   "metadata": {},
   "outputs": [
    {
     "data": {
      "text/plain": [
       "'Top 17 hybrid animals created by scientists you won’t believe exist in 2020!!'"
      ]
     },
     "execution_count": 19,
     "metadata": {},
     "output_type": "execute_result"
    }
   ],
   "source": [
    "temp_len.iloc[0,2] # Now lenghth has been descreased"
   ]
  },
  {
   "cell_type": "code",
   "execution_count": 20,
   "metadata": {},
   "outputs": [
    {
     "data": {
      "text/html": [
       "<div>\n",
       "<style scoped>\n",
       "    .dataframe tbody tr th:only-of-type {\n",
       "        vertical-align: middle;\n",
       "    }\n",
       "\n",
       "    .dataframe tbody tr th {\n",
       "        vertical-align: top;\n",
       "    }\n",
       "\n",
       "    .dataframe thead th {\n",
       "        text-align: right;\n",
       "    }\n",
       "</style>\n",
       "<table border=\"1\" class=\"dataframe\">\n",
       "  <thead>\n",
       "    <tr style=\"text-align: right;\">\n",
       "      <th></th>\n",
       "      <th>link</th>\n",
       "      <th>title</th>\n",
       "      <th>Description</th>\n",
       "      <th>Category</th>\n",
       "      <th>Descrip_length</th>\n",
       "    </tr>\n",
       "  </thead>\n",
       "  <tbody>\n",
       "    <tr>\n",
       "      <th>0</th>\n",
       "      <td>U8X-fd_zQQ</td>\n",
       "      <td>12 Cool Science Tricks That Will Make Your Fri...</td>\n",
       "      <td>Impress your friends this weekend with these 1...</td>\n",
       "      <td>Science</td>\n",
       "      <td>241</td>\n",
       "    </tr>\n",
       "    <tr>\n",
       "      <th>1</th>\n",
       "      <td>VoLZXXQL-YY</td>\n",
       "      <td>9 Incredible Science Facts You Probably Didn't...</td>\n",
       "      <td>Common scientific facts you won't believe are ...</td>\n",
       "      <td>Science</td>\n",
       "      <td>274</td>\n",
       "    </tr>\n",
       "    <tr>\n",
       "      <th>2</th>\n",
       "      <td>DZcofvSqLHI</td>\n",
       "      <td>5 Amazing Experiments With Hand Sanitizer || E...</td>\n",
       "      <td>5 Simple Science Experiments With Hand Sanitiz...</td>\n",
       "      <td>Science</td>\n",
       "      <td>973</td>\n",
       "    </tr>\n",
       "    <tr>\n",
       "      <th>3</th>\n",
       "      <td>OY6RgrDKQ</td>\n",
       "      <td>18 EASY SCHOOL MAGIC TRICKS AND SCIENCE EXPERI...</td>\n",
       "      <td>UNEXPECTED TRICKS AND IDEAS FOR KIDS\\n\\nThere ...</td>\n",
       "      <td>Science</td>\n",
       "      <td>1496</td>\n",
       "    </tr>\n",
       "    <tr>\n",
       "      <th>4</th>\n",
       "      <td>i_2PtL7cRyE</td>\n",
       "      <td>विज्ञान के सबसे घातक प्रयोग Terrible Science E...</td>\n",
       "      <td>mYTH Tv India\\n#MTI7</td>\n",
       "      <td>Science</td>\n",
       "      <td>19</td>\n",
       "    </tr>\n",
       "  </tbody>\n",
       "</table>\n",
       "</div>"
      ],
      "text/plain": [
       "          link                                              title  \\\n",
       "0   U8X-fd_zQQ  12 Cool Science Tricks That Will Make Your Fri...   \n",
       "1  VoLZXXQL-YY  9 Incredible Science Facts You Probably Didn't...   \n",
       "2  DZcofvSqLHI  5 Amazing Experiments With Hand Sanitizer || E...   \n",
       "3    OY6RgrDKQ  18 EASY SCHOOL MAGIC TRICKS AND SCIENCE EXPERI...   \n",
       "4  i_2PtL7cRyE  विज्ञान के सबसे घातक प्रयोग Terrible Science E...   \n",
       "\n",
       "                                         Description Category  Descrip_length  \n",
       "0  Impress your friends this weekend with these 1...  Science             241  \n",
       "1  Common scientific facts you won't believe are ...  Science             274  \n",
       "2  5 Simple Science Experiments With Hand Sanitiz...  Science             973  \n",
       "3  UNEXPECTED TRICKS AND IDEAS FOR KIDS\\n\\nThere ...  Science            1496  \n",
       "4                               mYTH Tv India\\n#MTI7  Science              19  "
      ]
     },
     "execution_count": 20,
     "metadata": {},
     "output_type": "execute_result"
    }
   ],
   "source": [
    "temp.head()"
   ]
  },
  {
   "cell_type": "code",
   "execution_count": 21,
   "metadata": {},
   "outputs": [
    {
     "data": {
      "text/html": [
       "<div>\n",
       "<style scoped>\n",
       "    .dataframe tbody tr th:only-of-type {\n",
       "        vertical-align: middle;\n",
       "    }\n",
       "\n",
       "    .dataframe tbody tr th {\n",
       "        vertical-align: top;\n",
       "    }\n",
       "\n",
       "    .dataframe thead th {\n",
       "        text-align: right;\n",
       "    }\n",
       "</style>\n",
       "<table border=\"1\" class=\"dataframe\">\n",
       "  <thead>\n",
       "    <tr style=\"text-align: right;\">\n",
       "      <th></th>\n",
       "      <th>link</th>\n",
       "      <th>title</th>\n",
       "      <th>Description</th>\n",
       "      <th>Category</th>\n",
       "      <th>Descrip_length</th>\n",
       "    </tr>\n",
       "  </thead>\n",
       "  <tbody>\n",
       "    <tr>\n",
       "      <th>0</th>\n",
       "      <td>U8X-fd_zQQ</td>\n",
       "      <td>12 Cool Science Tricks That Will Make Your Fri...</td>\n",
       "      <td>Impress your friends this weekend with these 1...</td>\n",
       "      <td>Science</td>\n",
       "      <td>241</td>\n",
       "    </tr>\n",
       "    <tr>\n",
       "      <th>1</th>\n",
       "      <td>VoLZXXQL-YY</td>\n",
       "      <td>9 Incredible Science Facts You Probably Didn't...</td>\n",
       "      <td>Common scientific facts you won't believe are ...</td>\n",
       "      <td>Science</td>\n",
       "      <td>274</td>\n",
       "    </tr>\n",
       "    <tr>\n",
       "      <th>2</th>\n",
       "      <td>DZcofvSqLHI</td>\n",
       "      <td>5 Amazing Experiments With Hand Sanitizer || E...</td>\n",
       "      <td>5 Simple Science Experiments With Hand Sanitiz...</td>\n",
       "      <td>Science</td>\n",
       "      <td>973</td>\n",
       "    </tr>\n",
       "    <tr>\n",
       "      <th>3</th>\n",
       "      <td>OY6RgrDKQ</td>\n",
       "      <td>18 EASY SCHOOL MAGIC TRICKS AND SCIENCE EXPERI...</td>\n",
       "      <td>UNEXPECTED TRICKS AND IDEAS FOR KIDS\\n\\nThere ...</td>\n",
       "      <td>Science</td>\n",
       "      <td>1496</td>\n",
       "    </tr>\n",
       "    <tr>\n",
       "      <th>4</th>\n",
       "      <td>i_2PtL7cRyE</td>\n",
       "      <td>विज्ञान के सबसे घातक प्रयोग Terrible Science E...</td>\n",
       "      <td>mYTH Tv India\\n#MTI7</td>\n",
       "      <td>Science</td>\n",
       "      <td>19</td>\n",
       "    </tr>\n",
       "  </tbody>\n",
       "</table>\n",
       "</div>"
      ],
      "text/plain": [
       "          link                                              title  \\\n",
       "0   U8X-fd_zQQ  12 Cool Science Tricks That Will Make Your Fri...   \n",
       "1  VoLZXXQL-YY  9 Incredible Science Facts You Probably Didn't...   \n",
       "2  DZcofvSqLHI  5 Amazing Experiments With Hand Sanitizer || E...   \n",
       "3    OY6RgrDKQ  18 EASY SCHOOL MAGIC TRICKS AND SCIENCE EXPERI...   \n",
       "4  i_2PtL7cRyE  विज्ञान के सबसे घातक प्रयोग Terrible Science E...   \n",
       "\n",
       "                                         Description Category  Descrip_length  \n",
       "0  Impress your friends this weekend with these 1...  Science             241  \n",
       "1  Common scientific facts you won't believe are ...  Science             274  \n",
       "2  5 Simple Science Experiments With Hand Sanitiz...  Science             973  \n",
       "3  UNEXPECTED TRICKS AND IDEAS FOR KIDS\\n\\nThere ...  Science            1496  \n",
       "4                               mYTH Tv India\\n#MTI7  Science              19  "
      ]
     },
     "execution_count": 21,
     "metadata": {},
     "output_type": "execute_result"
    }
   ],
   "source": [
    "# Reducing the high description length in main dataset which we appiled above\n",
    "\n",
    "temp.loc[temp.Descrip_length>1500, 'Description'] =temp[temp['Descrip_length']>1500]['Description'].apply(lambda x: x.split('\\n')[0])\n",
    "\n",
    "temp.head()"
   ]
  },
  {
   "cell_type": "code",
   "execution_count": 83,
   "metadata": {},
   "outputs": [
    {
     "data": {
      "text/plain": [
       "<matplotlib.axes._subplots.AxesSubplot at 0x27ca4871e48>"
      ]
     },
     "execution_count": 83,
     "metadata": {},
     "output_type": "execute_result"
    },
    {
     "data": {
      "image/png": "[encoded data removed]",
      "text/plain": [
       "<Figure size 432x288 with 1 Axes>"
      ]
     },
     "metadata": {
      "needs_background": "light"
     },
     "output_type": "display_data"
    }
   ],
   "source": [
    "# Checking new length of description got after modification\n",
    "temp['Descrip_length_updated']= temp['Description'].apply(len)\n",
    "plt.grid(True)\n",
    "sns.distplot(temp['Descrip_length_updated'], bins=50)# reduced some outliers"
   ]
  },
  {
   "cell_type": "code",
   "execution_count": 23,
   "metadata": {},
   "outputs": [
    {
     "data": {
      "text/plain": [
       "count     223.000000\n",
       "mean      346.547085\n",
       "std       271.891748\n",
       "min        19.000000\n",
       "25%       152.000000\n",
       "50%       244.000000\n",
       "75%       454.500000\n",
       "max      1496.000000\n",
       "Name: Descrip_length_updated, dtype: float64"
      ]
     },
     "execution_count": 23,
     "metadata": {},
     "output_type": "execute_result"
    }
   ],
   "source": [
    "temp['Descrip_length_updated'].describe()"
   ]
  },
  {
   "cell_type": "code",
   "execution_count": 24,
   "metadata": {},
   "outputs": [
    {
     "data": {
      "text/plain": [
       "<matplotlib.axes._subplots.AxesSubplot at 0x27ca0484bc8>"
      ]
     },
     "execution_count": 24,
     "metadata": {},
     "output_type": "execute_result"
    },
    {
     "data": {
      "image/png": "[encoded data removed]",
      "text/plain": [
       "<Figure size 432x288 with 1 Axes>"
      ]
     },
     "metadata": {
      "needs_background": "light"
     },
     "output_type": "display_data"
    }
   ],
   "source": [
    "sns.boxplot('Category', 'Descrip_length_updated', data=temp)"
   ]
  },
  {
   "cell_type": "markdown",
   "metadata": {},
   "source": [
    "#### Link Column"
   ]
  },
  {
   "cell_type": "code",
   "execution_count": 25,
   "metadata": {},
   "outputs": [
    {
     "data": {
      "text/plain": [
       "209"
      ]
     },
     "execution_count": 25,
     "metadata": {},
     "output_type": "execute_result"
    }
   ],
   "source": [
    "# Checking 'link' Column\n",
    "temp['link'].nunique() # means all are unique so will not contribute in learning. Will delete in later stage\n"
   ]
  },
  {
   "cell_type": "code",
   "execution_count": 26,
   "metadata": {},
   "outputs": [
    {
     "data": {
      "text/plain": [
       "count            223\n",
       "unique           209\n",
       "top       fE8lezHs19\n",
       "freq               2\n",
       "Name: link, dtype: object"
      ]
     },
     "execution_count": 26,
     "metadata": {},
     "output_type": "execute_result"
    }
   ],
   "source": [
    "temp.link.describe()"
   ]
  },
  {
   "cell_type": "code",
   "execution_count": 27,
   "metadata": {},
   "outputs": [
    {
     "data": {
      "text/html": [
       "<div>\n",
       "<style scoped>\n",
       "    .dataframe tbody tr th:only-of-type {\n",
       "        vertical-align: middle;\n",
       "    }\n",
       "\n",
       "    .dataframe tbody tr th {\n",
       "        vertical-align: top;\n",
       "    }\n",
       "\n",
       "    .dataframe thead th {\n",
       "        text-align: right;\n",
       "    }\n",
       "</style>\n",
       "<table border=\"1\" class=\"dataframe\">\n",
       "  <thead>\n",
       "    <tr style=\"text-align: right;\">\n",
       "      <th></th>\n",
       "      <th>link</th>\n",
       "      <th>title</th>\n",
       "      <th>Description</th>\n",
       "      <th>Category</th>\n",
       "      <th>Descrip_length</th>\n",
       "      <th>Descrip_length_updated</th>\n",
       "    </tr>\n",
       "  </thead>\n",
       "  <tbody>\n",
       "    <tr>\n",
       "      <th>0</th>\n",
       "      <td>U8X-fd_zQQ</td>\n",
       "      <td>12 Cool Science Tricks That Will Make Your Fri...</td>\n",
       "      <td>Impress your friends this weekend with these 1...</td>\n",
       "      <td>Science</td>\n",
       "      <td>241</td>\n",
       "      <td>241</td>\n",
       "    </tr>\n",
       "    <tr>\n",
       "      <th>1</th>\n",
       "      <td>VoLZXXQL-YY</td>\n",
       "      <td>9 Incredible Science Facts You Probably Didn't...</td>\n",
       "      <td>Common scientific facts you won't believe are ...</td>\n",
       "      <td>Science</td>\n",
       "      <td>274</td>\n",
       "      <td>274</td>\n",
       "    </tr>\n",
       "    <tr>\n",
       "      <th>2</th>\n",
       "      <td>DZcofvSqLHI</td>\n",
       "      <td>5 Amazing Experiments With Hand Sanitizer || E...</td>\n",
       "      <td>5 Simple Science Experiments With Hand Sanitiz...</td>\n",
       "      <td>Science</td>\n",
       "      <td>973</td>\n",
       "      <td>973</td>\n",
       "    </tr>\n",
       "    <tr>\n",
       "      <th>3</th>\n",
       "      <td>OY6RgrDKQ</td>\n",
       "      <td>18 EASY SCHOOL MAGIC TRICKS AND SCIENCE EXPERI...</td>\n",
       "      <td>UNEXPECTED TRICKS AND IDEAS FOR KIDS\\n\\nThere ...</td>\n",
       "      <td>Science</td>\n",
       "      <td>1496</td>\n",
       "      <td>1496</td>\n",
       "    </tr>\n",
       "    <tr>\n",
       "      <th>4</th>\n",
       "      <td>i_2PtL7cRyE</td>\n",
       "      <td>विज्ञान के सबसे घातक प्रयोग Terrible Science E...</td>\n",
       "      <td>mYTH Tv India\\n#MTI7</td>\n",
       "      <td>Science</td>\n",
       "      <td>19</td>\n",
       "      <td>19</td>\n",
       "    </tr>\n",
       "  </tbody>\n",
       "</table>\n",
       "</div>"
      ],
      "text/plain": [
       "          link                                              title  \\\n",
       "0   U8X-fd_zQQ  12 Cool Science Tricks That Will Make Your Fri...   \n",
       "1  VoLZXXQL-YY  9 Incredible Science Facts You Probably Didn't...   \n",
       "2  DZcofvSqLHI  5 Amazing Experiments With Hand Sanitizer || E...   \n",
       "3    OY6RgrDKQ  18 EASY SCHOOL MAGIC TRICKS AND SCIENCE EXPERI...   \n",
       "4  i_2PtL7cRyE  विज्ञान के सबसे घातक प्रयोग Terrible Science E...   \n",
       "\n",
       "                                         Description Category  Descrip_length  \\\n",
       "0  Impress your friends this weekend with these 1...  Science             241   \n",
       "1  Common scientific facts you won't believe are ...  Science             274   \n",
       "2  5 Simple Science Experiments With Hand Sanitiz...  Science             973   \n",
       "3  UNEXPECTED TRICKS AND IDEAS FOR KIDS\\n\\nThere ...  Science            1496   \n",
       "4                               mYTH Tv India\\n#MTI7  Science              19   \n",
       "\n",
       "   Descrip_length_updated  \n",
       "0                     241  \n",
       "1                     274  \n",
       "2                     973  \n",
       "3                    1496  \n",
       "4                      19  "
      ]
     },
     "execution_count": 27,
     "metadata": {},
     "output_type": "execute_result"
    }
   ],
   "source": [
    "temp.head()"
   ]
  },
  {
   "cell_type": "code",
   "execution_count": 29,
   "metadata": {},
   "outputs": [
    {
     "data": {
      "text/plain": [
       "'shubhamnnn number ansnumber number number'"
      ]
     },
     "execution_count": 29,
     "metadata": {},
     "output_type": "execute_result"
    }
   ],
   "source": [
    "# Just an example below to test regex\n",
    "\n",
    "b= 'shubhamnnn 88000222 ans11(https://www.youtube.com/channel/UC2W) 1 1!!#@'\n",
    "b= re.sub(r'\\d+(\\.\\d+)?', 'number', b)\n",
    "# b= re.sub(\"(http://.*?\\s)|(http://.*)\",'',b)\n",
    "b= re.sub('http://\\S+|https://\\S+', '', b)\n",
    "b= re.sub(\"\\d{1,3}\\.\\d{1,3}\\.\\d{1,3}\\.\\d{1,3}\",'', b)\n",
    "b= re.sub(r'[^\\w\\d\\s]', '',b)\n",
    "b"
   ]
  },
  {
   "cell_type": "code",
   "execution_count": 31,
   "metadata": {},
   "outputs": [
    {
     "data": {
      "text/html": [
       "<div>\n",
       "<style scoped>\n",
       "    .dataframe tbody tr th:only-of-type {\n",
       "        vertical-align: middle;\n",
       "    }\n",
       "\n",
       "    .dataframe tbody tr th {\n",
       "        vertical-align: top;\n",
       "    }\n",
       "\n",
       "    .dataframe thead th {\n",
       "        text-align: right;\n",
       "    }\n",
       "</style>\n",
       "<table border=\"1\" class=\"dataframe\">\n",
       "  <thead>\n",
       "    <tr style=\"text-align: right;\">\n",
       "      <th></th>\n",
       "      <th>link</th>\n",
       "      <th>title</th>\n",
       "      <th>Description</th>\n",
       "      <th>Category</th>\n",
       "      <th>Descrip_length</th>\n",
       "      <th>Descrip_length_updated</th>\n",
       "      <th>title_length</th>\n",
       "    </tr>\n",
       "  </thead>\n",
       "  <tbody>\n",
       "    <tr>\n",
       "      <th>0</th>\n",
       "      <td>U8X-fd_zQQ</td>\n",
       "      <td>12 Cool Science Tricks That Will Make Your Fri...</td>\n",
       "      <td>Impress your friends this weekend with these 1...</td>\n",
       "      <td>Science</td>\n",
       "      <td>241</td>\n",
       "      <td>241</td>\n",
       "      <td>100</td>\n",
       "    </tr>\n",
       "    <tr>\n",
       "      <th>1</th>\n",
       "      <td>VoLZXXQL-YY</td>\n",
       "      <td>9 Incredible Science Facts You Probably Didn't...</td>\n",
       "      <td>Common scientific facts you won't believe are ...</td>\n",
       "      <td>Science</td>\n",
       "      <td>274</td>\n",
       "      <td>274</td>\n",
       "      <td>62</td>\n",
       "    </tr>\n",
       "    <tr>\n",
       "      <th>2</th>\n",
       "      <td>DZcofvSqLHI</td>\n",
       "      <td>5 Amazing Experiments With Hand Sanitizer || E...</td>\n",
       "      <td>5 Simple Science Experiments With Hand Sanitiz...</td>\n",
       "      <td>Science</td>\n",
       "      <td>973</td>\n",
       "      <td>973</td>\n",
       "      <td>84</td>\n",
       "    </tr>\n",
       "    <tr>\n",
       "      <th>3</th>\n",
       "      <td>OY6RgrDKQ</td>\n",
       "      <td>18 EASY SCHOOL MAGIC TRICKS AND SCIENCE EXPERI...</td>\n",
       "      <td>UNEXPECTED TRICKS AND IDEAS FOR KIDS\\n\\nThere ...</td>\n",
       "      <td>Science</td>\n",
       "      <td>1496</td>\n",
       "      <td>1496</td>\n",
       "      <td>51</td>\n",
       "    </tr>\n",
       "    <tr>\n",
       "      <th>4</th>\n",
       "      <td>i_2PtL7cRyE</td>\n",
       "      <td>विज्ञान के सबसे घातक प्रयोग Terrible Science E...</td>\n",
       "      <td>mYTH Tv India\\n#MTI7</td>\n",
       "      <td>Science</td>\n",
       "      <td>19</td>\n",
       "      <td>19</td>\n",
       "      <td>88</td>\n",
       "    </tr>\n",
       "  </tbody>\n",
       "</table>\n",
       "</div>"
      ],
      "text/plain": [
       "          link                                              title  \\\n",
       "0   U8X-fd_zQQ  12 Cool Science Tricks That Will Make Your Fri...   \n",
       "1  VoLZXXQL-YY  9 Incredible Science Facts You Probably Didn't...   \n",
       "2  DZcofvSqLHI  5 Amazing Experiments With Hand Sanitizer || E...   \n",
       "3    OY6RgrDKQ  18 EASY SCHOOL MAGIC TRICKS AND SCIENCE EXPERI...   \n",
       "4  i_2PtL7cRyE  विज्ञान के सबसे घातक प्रयोग Terrible Science E...   \n",
       "\n",
       "                                         Description Category  Descrip_length  \\\n",
       "0  Impress your friends this weekend with these 1...  Science             241   \n",
       "1  Common scientific facts you won't believe are ...  Science             274   \n",
       "2  5 Simple Science Experiments With Hand Sanitiz...  Science             973   \n",
       "3  UNEXPECTED TRICKS AND IDEAS FOR KIDS\\n\\nThere ...  Science            1496   \n",
       "4                               mYTH Tv India\\n#MTI7  Science              19   \n",
       "\n",
       "   Descrip_length_updated  title_length  \n",
       "0                     241           100  \n",
       "1                     274            62  \n",
       "2                     973            84  \n",
       "3                    1496            51  \n",
       "4                      19            88  "
      ]
     },
     "execution_count": 31,
     "metadata": {},
     "output_type": "execute_result"
    }
   ],
   "source": [
    "temp['title_length']= temp['title'].apply(len)\n",
    "temp.head()"
   ]
  },
  {
   "cell_type": "code",
   "execution_count": 32,
   "metadata": {},
   "outputs": [
    {
     "data": {
      "text/html": [
       "<div>\n",
       "<style scoped>\n",
       "    .dataframe tbody tr th:only-of-type {\n",
       "        vertical-align: middle;\n",
       "    }\n",
       "\n",
       "    .dataframe tbody tr th {\n",
       "        vertical-align: top;\n",
       "    }\n",
       "\n",
       "    .dataframe thead th {\n",
       "        text-align: right;\n",
       "    }\n",
       "</style>\n",
       "<table border=\"1\" class=\"dataframe\">\n",
       "  <thead>\n",
       "    <tr style=\"text-align: right;\">\n",
       "      <th></th>\n",
       "      <th>link</th>\n",
       "      <th>title</th>\n",
       "      <th>Description</th>\n",
       "      <th>Category</th>\n",
       "      <th>Descrip_length</th>\n",
       "      <th>Descrip_length_updated</th>\n",
       "      <th>title_length</th>\n",
       "      <th>new_title_length</th>\n",
       "    </tr>\n",
       "  </thead>\n",
       "  <tbody>\n",
       "    <tr>\n",
       "      <th>0</th>\n",
       "      <td>U8X-fd_zQQ</td>\n",
       "      <td>number Cool Science Tricks That Will Make Your...</td>\n",
       "      <td>Impress your friends this weekend with these 1...</td>\n",
       "      <td>Science</td>\n",
       "      <td>241</td>\n",
       "      <td>241</td>\n",
       "      <td>100</td>\n",
       "      <td>99</td>\n",
       "    </tr>\n",
       "    <tr>\n",
       "      <th>1</th>\n",
       "      <td>VoLZXXQL-YY</td>\n",
       "      <td>number Incredible Science Facts You Probably D...</td>\n",
       "      <td>Common scientific facts you won't believe are ...</td>\n",
       "      <td>Science</td>\n",
       "      <td>274</td>\n",
       "      <td>274</td>\n",
       "      <td>62</td>\n",
       "      <td>66</td>\n",
       "    </tr>\n",
       "    <tr>\n",
       "      <th>2</th>\n",
       "      <td>DZcofvSqLHI</td>\n",
       "      <td>number Amazing Experiments With Hand Sanitizer...</td>\n",
       "      <td>5 Simple Science Experiments With Hand Sanitiz...</td>\n",
       "      <td>Science</td>\n",
       "      <td>973</td>\n",
       "      <td>973</td>\n",
       "      <td>84</td>\n",
       "      <td>87</td>\n",
       "    </tr>\n",
       "    <tr>\n",
       "      <th>3</th>\n",
       "      <td>OY6RgrDKQ</td>\n",
       "      <td>number EASY SCHOOL MAGIC TRICKS AND SCIENCE EX...</td>\n",
       "      <td>UNEXPECTED TRICKS AND IDEAS FOR KIDS\\n\\nThere ...</td>\n",
       "      <td>Science</td>\n",
       "      <td>1496</td>\n",
       "      <td>1496</td>\n",
       "      <td>51</td>\n",
       "      <td>55</td>\n",
       "    </tr>\n",
       "    <tr>\n",
       "      <th>4</th>\n",
       "      <td>i_2PtL7cRyE</td>\n",
       "      <td>वजञन क सबस घतक परयग Terrible Science Experimen...</td>\n",
       "      <td>mYTH Tv India\\n#MTI7</td>\n",
       "      <td>Science</td>\n",
       "      <td>19</td>\n",
       "      <td>19</td>\n",
       "      <td>88</td>\n",
       "      <td>84</td>\n",
       "    </tr>\n",
       "  </tbody>\n",
       "</table>\n",
       "</div>"
      ],
      "text/plain": [
       "          link                                              title  \\\n",
       "0   U8X-fd_zQQ  number Cool Science Tricks That Will Make Your...   \n",
       "1  VoLZXXQL-YY  number Incredible Science Facts You Probably D...   \n",
       "2  DZcofvSqLHI  number Amazing Experiments With Hand Sanitizer...   \n",
       "3    OY6RgrDKQ  number EASY SCHOOL MAGIC TRICKS AND SCIENCE EX...   \n",
       "4  i_2PtL7cRyE  वजञन क सबस घतक परयग Terrible Science Experimen...   \n",
       "\n",
       "                                         Description Category  Descrip_length  \\\n",
       "0  Impress your friends this weekend with these 1...  Science             241   \n",
       "1  Common scientific facts you won't believe are ...  Science             274   \n",
       "2  5 Simple Science Experiments With Hand Sanitiz...  Science             973   \n",
       "3  UNEXPECTED TRICKS AND IDEAS FOR KIDS\\n\\nThere ...  Science            1496   \n",
       "4                               mYTH Tv India\\n#MTI7  Science              19   \n",
       "\n",
       "   Descrip_length_updated  title_length  new_title_length  \n",
       "0                     241           100                99  \n",
       "1                     274            62                66  \n",
       "2                     973            84                87  \n",
       "3                    1496            51                55  \n",
       "4                      19            88                84  "
      ]
     },
     "execution_count": 32,
     "metadata": {},
     "output_type": "execute_result"
    }
   ],
   "source": [
    "# Cleaning 'title' column's text\n",
    "\n",
    "temp['title']= temp['title'].map(lambda x: re.sub('\\\\n',' ',str(x)))# remove '\\\\n'\n",
    "temp['title']= temp['title'].map(lambda x: re.sub('http://\\S+|https://\\S+', '', str(x)))# remove http links in the text\n",
    "temp['title']= temp['title'].map(lambda x: re.sub(r'\\d+(\\.\\d+)?', 'number', str(x))) # Replace digits with 'number'\n",
    "temp['title']= temp['title'].map(lambda x: re.sub(r'\\s+', ' ', str(x))) # Replace whitespace between terms with a single space\n",
    "temp['title']= temp['title'].map(lambda x: re.sub(r'[^\\w\\d\\s]', '',str(x))) # removing special characther like !, |\n",
    "temp.head()\n",
    "\n",
    "temp['new_title_length']= temp['title'].apply(len)\n",
    "temp.head()"
   ]
  },
  {
   "cell_type": "code",
   "execution_count": 33,
   "metadata": {},
   "outputs": [
    {
     "data": {
      "text/plain": [
       "'number Cool Science Tricks That Will Make Your Friends Go Omg How DIY Tricks  Life Hacks by Blossom'"
      ]
     },
     "execution_count": 33,
     "metadata": {},
     "output_type": "execute_result"
    }
   ],
   "source": [
    "temp.iloc[0,1] # Sample look after cleaning"
   ]
  },
  {
   "cell_type": "code",
   "execution_count": 34,
   "metadata": {},
   "outputs": [
    {
     "data": {
      "text/html": [
       "<div>\n",
       "<style scoped>\n",
       "    .dataframe tbody tr th:only-of-type {\n",
       "        vertical-align: middle;\n",
       "    }\n",
       "\n",
       "    .dataframe tbody tr th {\n",
       "        vertical-align: top;\n",
       "    }\n",
       "\n",
       "    .dataframe thead th {\n",
       "        text-align: right;\n",
       "    }\n",
       "</style>\n",
       "<table border=\"1\" class=\"dataframe\">\n",
       "  <thead>\n",
       "    <tr style=\"text-align: right;\">\n",
       "      <th></th>\n",
       "      <th>link</th>\n",
       "      <th>title</th>\n",
       "      <th>Description</th>\n",
       "      <th>Category</th>\n",
       "      <th>Descrip_length</th>\n",
       "    </tr>\n",
       "  </thead>\n",
       "  <tbody>\n",
       "    <tr>\n",
       "      <th>0</th>\n",
       "      <td>U8X-fd_zQQ</td>\n",
       "      <td>number Cool Science Tricks That Will Make Your...</td>\n",
       "      <td>Impress your friends this weekend with these 1...</td>\n",
       "      <td>Science</td>\n",
       "      <td>241</td>\n",
       "    </tr>\n",
       "    <tr>\n",
       "      <th>1</th>\n",
       "      <td>VoLZXXQL-YY</td>\n",
       "      <td>number Incredible Science Facts You Probably D...</td>\n",
       "      <td>Common scientific facts you won't believe are ...</td>\n",
       "      <td>Science</td>\n",
       "      <td>274</td>\n",
       "    </tr>\n",
       "    <tr>\n",
       "      <th>2</th>\n",
       "      <td>DZcofvSqLHI</td>\n",
       "      <td>number Amazing Experiments With Hand Sanitizer...</td>\n",
       "      <td>5 Simple Science Experiments With Hand Sanitiz...</td>\n",
       "      <td>Science</td>\n",
       "      <td>973</td>\n",
       "    </tr>\n",
       "    <tr>\n",
       "      <th>3</th>\n",
       "      <td>OY6RgrDKQ</td>\n",
       "      <td>number EASY SCHOOL MAGIC TRICKS AND SCIENCE EX...</td>\n",
       "      <td>UNEXPECTED TRICKS AND IDEAS FOR KIDS\\n\\nThere ...</td>\n",
       "      <td>Science</td>\n",
       "      <td>1496</td>\n",
       "    </tr>\n",
       "    <tr>\n",
       "      <th>4</th>\n",
       "      <td>i_2PtL7cRyE</td>\n",
       "      <td>वजञन क सबस घतक परयग Terrible Science Experimen...</td>\n",
       "      <td>mYTH Tv India\\n#MTI7</td>\n",
       "      <td>Science</td>\n",
       "      <td>19</td>\n",
       "    </tr>\n",
       "  </tbody>\n",
       "</table>\n",
       "</div>"
      ],
      "text/plain": [
       "          link                                              title  \\\n",
       "0   U8X-fd_zQQ  number Cool Science Tricks That Will Make Your...   \n",
       "1  VoLZXXQL-YY  number Incredible Science Facts You Probably D...   \n",
       "2  DZcofvSqLHI  number Amazing Experiments With Hand Sanitizer...   \n",
       "3    OY6RgrDKQ  number EASY SCHOOL MAGIC TRICKS AND SCIENCE EX...   \n",
       "4  i_2PtL7cRyE  वजञन क सबस घतक परयग Terrible Science Experimen...   \n",
       "\n",
       "                                         Description Category  Descrip_length  \n",
       "0  Impress your friends this weekend with these 1...  Science             241  \n",
       "1  Common scientific facts you won't believe are ...  Science             274  \n",
       "2  5 Simple Science Experiments With Hand Sanitiz...  Science             973  \n",
       "3  UNEXPECTED TRICKS AND IDEAS FOR KIDS\\n\\nThere ...  Science            1496  \n",
       "4                               mYTH Tv India\\n#MTI7  Science              19  "
      ]
     },
     "execution_count": 34,
     "metadata": {},
     "output_type": "execute_result"
    }
   ],
   "source": [
    "# Dropping custom columns that were made by me\n",
    "temp= temp.drop(columns=['Descrip_length_updated', 'new_title_length', 'title_length'], axis=1)\n",
    "temp.head()"
   ]
  },
  {
   "cell_type": "code",
   "execution_count": 35,
   "metadata": {},
   "outputs": [
    {
     "data": {
      "text/html": [
       "<div>\n",
       "<style scoped>\n",
       "    .dataframe tbody tr th:only-of-type {\n",
       "        vertical-align: middle;\n",
       "    }\n",
       "\n",
       "    .dataframe tbody tr th {\n",
       "        vertical-align: top;\n",
       "    }\n",
       "\n",
       "    .dataframe thead th {\n",
       "        text-align: right;\n",
       "    }\n",
       "</style>\n",
       "<table border=\"1\" class=\"dataframe\">\n",
       "  <thead>\n",
       "    <tr style=\"text-align: right;\">\n",
       "      <th></th>\n",
       "      <th>link</th>\n",
       "      <th>title</th>\n",
       "      <th>Description</th>\n",
       "      <th>Category</th>\n",
       "      <th>Descrip_length</th>\n",
       "      <th>new_Desc_length</th>\n",
       "    </tr>\n",
       "  </thead>\n",
       "  <tbody>\n",
       "    <tr>\n",
       "      <th>0</th>\n",
       "      <td>U8X-fd_zQQ</td>\n",
       "      <td>number Cool Science Tricks That Will Make Your...</td>\n",
       "      <td>Impress your friends this weekend with these n...</td>\n",
       "      <td>Science</td>\n",
       "      <td>241</td>\n",
       "      <td>199</td>\n",
       "    </tr>\n",
       "    <tr>\n",
       "      <th>1</th>\n",
       "      <td>VoLZXXQL-YY</td>\n",
       "      <td>number Incredible Science Facts You Probably D...</td>\n",
       "      <td>Common scientific facts you wont believe are r...</td>\n",
       "      <td>Science</td>\n",
       "      <td>274</td>\n",
       "      <td>263</td>\n",
       "    </tr>\n",
       "    <tr>\n",
       "      <th>2</th>\n",
       "      <td>DZcofvSqLHI</td>\n",
       "      <td>number Amazing Experiments With Hand Sanitizer...</td>\n",
       "      <td>number Simple Science Experiments With Hand Sa...</td>\n",
       "      <td>Science</td>\n",
       "      <td>973</td>\n",
       "      <td>930</td>\n",
       "    </tr>\n",
       "    <tr>\n",
       "      <th>3</th>\n",
       "      <td>OY6RgrDKQ</td>\n",
       "      <td>number EASY SCHOOL MAGIC TRICKS AND SCIENCE EX...</td>\n",
       "      <td>UNEXPECTED TRICKS AND IDEAS FOR KIDS There are...</td>\n",
       "      <td>Science</td>\n",
       "      <td>1496</td>\n",
       "      <td>1450</td>\n",
       "    </tr>\n",
       "    <tr>\n",
       "      <th>4</th>\n",
       "      <td>i_2PtL7cRyE</td>\n",
       "      <td>वजञन क सबस घतक परयग Terrible Science Experimen...</td>\n",
       "      <td>mYTH Tv India MTInumber</td>\n",
       "      <td>Science</td>\n",
       "      <td>19</td>\n",
       "      <td>23</td>\n",
       "    </tr>\n",
       "  </tbody>\n",
       "</table>\n",
       "</div>"
      ],
      "text/plain": [
       "          link                                              title  \\\n",
       "0   U8X-fd_zQQ  number Cool Science Tricks That Will Make Your...   \n",
       "1  VoLZXXQL-YY  number Incredible Science Facts You Probably D...   \n",
       "2  DZcofvSqLHI  number Amazing Experiments With Hand Sanitizer...   \n",
       "3    OY6RgrDKQ  number EASY SCHOOL MAGIC TRICKS AND SCIENCE EX...   \n",
       "4  i_2PtL7cRyE  वजञन क सबस घतक परयग Terrible Science Experimen...   \n",
       "\n",
       "                                         Description Category  Descrip_length  \\\n",
       "0  Impress your friends this weekend with these n...  Science             241   \n",
       "1  Common scientific facts you wont believe are r...  Science             274   \n",
       "2  number Simple Science Experiments With Hand Sa...  Science             973   \n",
       "3  UNEXPECTED TRICKS AND IDEAS FOR KIDS There are...  Science            1496   \n",
       "4                            mYTH Tv India MTInumber  Science              19   \n",
       "\n",
       "   new_Desc_length  \n",
       "0              199  \n",
       "1              263  \n",
       "2              930  \n",
       "3             1450  \n",
       "4               23  "
      ]
     },
     "execution_count": 35,
     "metadata": {},
     "output_type": "execute_result"
    }
   ],
   "source": [
    "# Cleaning 'Description' column's text\n",
    "\n",
    "temp['Description']= temp['Description'].map(lambda x: re.sub('\\\\n',' ',str(x)))# remove '\\\\n'\n",
    "temp['Description']= temp['Description'].map(lambda x: re.sub('http://\\S+|https://\\S+', '', str(x)))# remove http links in the text\n",
    "temp['Description']= temp['Description'].map(lambda x: re.sub(r'\\d+(\\.\\d+)?', 'number', str(x))) # Replace digits with 'number'\n",
    "temp['Description']= temp['Description'].map(lambda x: re.sub(r'\\s+', ' ', str(x))) # Replace whitespace between terms with a single space\n",
    "temp['Description']= temp['Description'].map(lambda x: re.sub(r'[^\\w\\d\\s]', '',str(x))) # removing special characther like !, |\n",
    "temp.head()\n",
    "\n",
    "temp['new_Desc_length']= temp['Description'].apply(len)\n",
    "temp.head()"
   ]
  },
  {
   "cell_type": "code",
   "execution_count": 36,
   "metadata": {},
   "outputs": [
    {
     "data": {
      "text/plain": [
       "<matplotlib.axes._subplots.AxesSubplot at 0x27ca06a8e88>"
      ]
     },
     "execution_count": 36,
     "metadata": {},
     "output_type": "execute_result"
    },
    {
     "data": {
      "image/png": "[encoded data removed]",
      "text/plain": [
       "<Figure size 432x288 with 1 Axes>"
      ]
     },
     "metadata": {
      "needs_background": "light"
     },
     "output_type": "display_data"
    }
   ],
   "source": [
    "# Showing description length after cleaning of data\n",
    "\n",
    "sns.boxplot(x= 'Category', y='new_Desc_length',data=temp)"
   ]
  },
  {
   "cell_type": "code",
   "execution_count": 37,
   "metadata": {},
   "outputs": [
    {
     "name": "stdout",
     "output_type": "stream",
     "text": [
      "223\n"
     ]
    }
   ],
   "source": [
    "# Removing Stopwords and doing stemming in Title column\n",
    "\n",
    "ps= PorterStemmer()\n",
    "lemm= WordNetLemmatizer()\n",
    "\n",
    "corpus=[]\n",
    "for i in range(0, len(temp['title'])):\n",
    "    clean_data= temp['title'][i]\n",
    "    clean_data= clean_data.lower()\n",
    "    clean_data= clean_data.split()\n",
    "#     clean_data = [lemm.lemmatize(word) for word in clean_data if not word in stopwords.words('english')]\n",
    "    clean_data = [ps.stem(word) for word in clean_data if not word in stopwords.words('english')]\n",
    "    clean_data= ' '.join(clean_data)\n",
    "    corpus.append(clean_data)\n",
    "    \n",
    "print(len(corpus))"
   ]
  },
  {
   "cell_type": "code",
   "execution_count": 38,
   "metadata": {},
   "outputs": [
    {
     "name": "stdout",
     "output_type": "stream",
     "text": [
      "223\n"
     ]
    }
   ],
   "source": [
    "# Removing Stopwords and doing stemming in Description Column\n",
    "\n",
    "corpus1=[]\n",
    "for i in range(0, len(temp['Description'])):\n",
    "    clean_data= temp['Description'][i]\n",
    "    clean_data= clean_data.lower()\n",
    "    clean_data= clean_data.split()\n",
    "#     clean_data = [lemm.lemmatize(word) for word in clean_data if not word in stopwords.words('english')]\n",
    "    clean_data = [ps.stem(word) for word in clean_data if not word in stopwords.words('english')]\n",
    "    clean_data= ' '.join(clean_data)\n",
    "    corpus1.append(clean_data)\n",
    "    \n",
    "print(len(corpus1))"
   ]
  },
  {
   "cell_type": "code",
   "execution_count": 40,
   "metadata": {},
   "outputs": [],
   "source": [
    "temp= temp.drop(columns=['new_Desc_length']) # deleting 'not important' column"
   ]
  },
  {
   "cell_type": "code",
   "execution_count": 41,
   "metadata": {},
   "outputs": [
    {
     "data": {
      "text/html": [
       "<div>\n",
       "<style scoped>\n",
       "    .dataframe tbody tr th:only-of-type {\n",
       "        vertical-align: middle;\n",
       "    }\n",
       "\n",
       "    .dataframe tbody tr th {\n",
       "        vertical-align: top;\n",
       "    }\n",
       "\n",
       "    .dataframe thead th {\n",
       "        text-align: right;\n",
       "    }\n",
       "</style>\n",
       "<table border=\"1\" class=\"dataframe\">\n",
       "  <thead>\n",
       "    <tr style=\"text-align: right;\">\n",
       "      <th></th>\n",
       "      <th>link</th>\n",
       "      <th>title</th>\n",
       "      <th>Description</th>\n",
       "      <th>Category</th>\n",
       "      <th>Descrip_length</th>\n",
       "      <th>title_length</th>\n",
       "    </tr>\n",
       "  </thead>\n",
       "  <tbody>\n",
       "    <tr>\n",
       "      <th>0</th>\n",
       "      <td>U8X-fd_zQQ</td>\n",
       "      <td>number Cool Science Tricks That Will Make Your...</td>\n",
       "      <td>Impress your friends this weekend with these n...</td>\n",
       "      <td>Science</td>\n",
       "      <td>241</td>\n",
       "      <td>99</td>\n",
       "    </tr>\n",
       "    <tr>\n",
       "      <th>1</th>\n",
       "      <td>VoLZXXQL-YY</td>\n",
       "      <td>number Incredible Science Facts You Probably D...</td>\n",
       "      <td>Common scientific facts you wont believe are r...</td>\n",
       "      <td>Science</td>\n",
       "      <td>274</td>\n",
       "      <td>66</td>\n",
       "    </tr>\n",
       "    <tr>\n",
       "      <th>2</th>\n",
       "      <td>DZcofvSqLHI</td>\n",
       "      <td>number Amazing Experiments With Hand Sanitizer...</td>\n",
       "      <td>number Simple Science Experiments With Hand Sa...</td>\n",
       "      <td>Science</td>\n",
       "      <td>973</td>\n",
       "      <td>87</td>\n",
       "    </tr>\n",
       "    <tr>\n",
       "      <th>3</th>\n",
       "      <td>OY6RgrDKQ</td>\n",
       "      <td>number EASY SCHOOL MAGIC TRICKS AND SCIENCE EX...</td>\n",
       "      <td>UNEXPECTED TRICKS AND IDEAS FOR KIDS There are...</td>\n",
       "      <td>Science</td>\n",
       "      <td>1496</td>\n",
       "      <td>55</td>\n",
       "    </tr>\n",
       "    <tr>\n",
       "      <th>4</th>\n",
       "      <td>i_2PtL7cRyE</td>\n",
       "      <td>वजञन क सबस घतक परयग Terrible Science Experimen...</td>\n",
       "      <td>mYTH Tv India MTInumber</td>\n",
       "      <td>Science</td>\n",
       "      <td>19</td>\n",
       "      <td>84</td>\n",
       "    </tr>\n",
       "  </tbody>\n",
       "</table>\n",
       "</div>"
      ],
      "text/plain": [
       "          link                                              title  \\\n",
       "0   U8X-fd_zQQ  number Cool Science Tricks That Will Make Your...   \n",
       "1  VoLZXXQL-YY  number Incredible Science Facts You Probably D...   \n",
       "2  DZcofvSqLHI  number Amazing Experiments With Hand Sanitizer...   \n",
       "3    OY6RgrDKQ  number EASY SCHOOL MAGIC TRICKS AND SCIENCE EX...   \n",
       "4  i_2PtL7cRyE  वजञन क सबस घतक परयग Terrible Science Experimen...   \n",
       "\n",
       "                                         Description Category  Descrip_length  \\\n",
       "0  Impress your friends this weekend with these n...  Science             241   \n",
       "1  Common scientific facts you wont believe are r...  Science             274   \n",
       "2  number Simple Science Experiments With Hand Sa...  Science             973   \n",
       "3  UNEXPECTED TRICKS AND IDEAS FOR KIDS There are...  Science            1496   \n",
       "4                            mYTH Tv India MTInumber  Science              19   \n",
       "\n",
       "   title_length  \n",
       "0            99  \n",
       "1            66  \n",
       "2            87  \n",
       "3            55  \n",
       "4            84  "
      ]
     },
     "execution_count": 41,
     "metadata": {},
     "output_type": "execute_result"
    }
   ],
   "source": [
    "temp['title_length']= temp['title'].apply(len)\n",
    "temp.head()"
   ]
  },
  {
   "cell_type": "code",
   "execution_count": 42,
   "metadata": {},
   "outputs": [
    {
     "data": {
      "text/html": [
       "<div>\n",
       "<style scoped>\n",
       "    .dataframe tbody tr th:only-of-type {\n",
       "        vertical-align: middle;\n",
       "    }\n",
       "\n",
       "    .dataframe tbody tr th {\n",
       "        vertical-align: top;\n",
       "    }\n",
       "\n",
       "    .dataframe thead th {\n",
       "        text-align: right;\n",
       "    }\n",
       "</style>\n",
       "<table border=\"1\" class=\"dataframe\">\n",
       "  <thead>\n",
       "    <tr style=\"text-align: right;\">\n",
       "      <th></th>\n",
       "      <th>link</th>\n",
       "      <th>title</th>\n",
       "      <th>Description</th>\n",
       "      <th>Category</th>\n",
       "      <th>Descrip_length</th>\n",
       "      <th>title_length</th>\n",
       "      <th>new_title</th>\n",
       "      <th>new_description</th>\n",
       "      <th>newtitle_length</th>\n",
       "      <th>newDesc_length</th>\n",
       "    </tr>\n",
       "  </thead>\n",
       "  <tbody>\n",
       "    <tr>\n",
       "      <th>0</th>\n",
       "      <td>U8X-fd_zQQ</td>\n",
       "      <td>number Cool Science Tricks That Will Make Your...</td>\n",
       "      <td>Impress your friends this weekend with these n...</td>\n",
       "      <td>Science</td>\n",
       "      <td>241</td>\n",
       "      <td>99</td>\n",
       "      <td>number cool scienc trick make friend go omg di...</td>\n",
       "      <td>impress friend weekend number cool scienc tric...</td>\n",
       "      <td>71</td>\n",
       "      <td>124</td>\n",
       "    </tr>\n",
       "    <tr>\n",
       "      <th>1</th>\n",
       "      <td>VoLZXXQL-YY</td>\n",
       "      <td>number Incredible Science Facts You Probably D...</td>\n",
       "      <td>Common scientific facts you wont believe are r...</td>\n",
       "      <td>Science</td>\n",
       "      <td>274</td>\n",
       "      <td>66</td>\n",
       "      <td>number incred scienc fact probabl didnt learn ...</td>\n",
       "      <td>common scientif fact wont believ real well per...</td>\n",
       "      <td>52</td>\n",
       "      <td>169</td>\n",
       "    </tr>\n",
       "    <tr>\n",
       "      <th>2</th>\n",
       "      <td>DZcofvSqLHI</td>\n",
       "      <td>number Amazing Experiments With Hand Sanitizer...</td>\n",
       "      <td>number Simple Science Experiments With Hand Sa...</td>\n",
       "      <td>Science</td>\n",
       "      <td>973</td>\n",
       "      <td>87</td>\n",
       "      <td>number amaz experi hand sanit easi scienc expe...</td>\n",
       "      <td>number simpl scienc experi hand sanit hello gu...</td>\n",
       "      <td>54</td>\n",
       "      <td>622</td>\n",
       "    </tr>\n",
       "    <tr>\n",
       "      <th>3</th>\n",
       "      <td>OY6RgrDKQ</td>\n",
       "      <td>number EASY SCHOOL MAGIC TRICKS AND SCIENCE EX...</td>\n",
       "      <td>UNEXPECTED TRICKS AND IDEAS FOR KIDS There are...</td>\n",
       "      <td>Science</td>\n",
       "      <td>1496</td>\n",
       "      <td>55</td>\n",
       "      <td>number easi school magic trick scienc experi</td>\n",
       "      <td>unexpect trick idea kid mani scienc trick perf...</td>\n",
       "      <td>44</td>\n",
       "      <td>864</td>\n",
       "    </tr>\n",
       "    <tr>\n",
       "      <th>4</th>\n",
       "      <td>i_2PtL7cRyE</td>\n",
       "      <td>वजञन क सबस घतक परयग Terrible Science Experimen...</td>\n",
       "      <td>mYTH Tv India MTInumber</td>\n",
       "      <td>Science</td>\n",
       "      <td>19</td>\n",
       "      <td>84</td>\n",
       "      <td>वजञन क सबस घतक परयग terribl scienc experi ever...</td>\n",
       "      <td>myth tv india mtinumb</td>\n",
       "      <td>72</td>\n",
       "      <td>21</td>\n",
       "    </tr>\n",
       "  </tbody>\n",
       "</table>\n",
       "</div>"
      ],
      "text/plain": [
       "          link                                              title  \\\n",
       "0   U8X-fd_zQQ  number Cool Science Tricks That Will Make Your...   \n",
       "1  VoLZXXQL-YY  number Incredible Science Facts You Probably D...   \n",
       "2  DZcofvSqLHI  number Amazing Experiments With Hand Sanitizer...   \n",
       "3    OY6RgrDKQ  number EASY SCHOOL MAGIC TRICKS AND SCIENCE EX...   \n",
       "4  i_2PtL7cRyE  वजञन क सबस घतक परयग Terrible Science Experimen...   \n",
       "\n",
       "                                         Description Category  Descrip_length  \\\n",
       "0  Impress your friends this weekend with these n...  Science             241   \n",
       "1  Common scientific facts you wont believe are r...  Science             274   \n",
       "2  number Simple Science Experiments With Hand Sa...  Science             973   \n",
       "3  UNEXPECTED TRICKS AND IDEAS FOR KIDS There are...  Science            1496   \n",
       "4                            mYTH Tv India MTInumber  Science              19   \n",
       "\n",
       "   title_length                                          new_title  \\\n",
       "0            99  number cool scienc trick make friend go omg di...   \n",
       "1            66  number incred scienc fact probabl didnt learn ...   \n",
       "2            87  number amaz experi hand sanit easi scienc expe...   \n",
       "3            55       number easi school magic trick scienc experi   \n",
       "4            84  वजञन क सबस घतक परयग terribl scienc experi ever...   \n",
       "\n",
       "                                     new_description  newtitle_length  \\\n",
       "0  impress friend weekend number cool scienc tric...               71   \n",
       "1  common scientif fact wont believ real well per...               52   \n",
       "2  number simpl scienc experi hand sanit hello gu...               54   \n",
       "3  unexpect trick idea kid mani scienc trick perf...               44   \n",
       "4                              myth tv india mtinumb               72   \n",
       "\n",
       "   newDesc_length  \n",
       "0             124  \n",
       "1             169  \n",
       "2             622  \n",
       "3             864  \n",
       "4              21  "
      ]
     },
     "execution_count": 42,
     "metadata": {},
     "output_type": "execute_result"
    }
   ],
   "source": [
    "# Now checking how many words have been removed after cleaning data\n",
    "\n",
    "temp['new_title']= corpus\n",
    "temp['new_description']= corpus1\n",
    "temp['newtitle_length']= temp['new_title'].apply(len)\n",
    "temp['newDesc_length']= temp['new_description'].apply(len)\n",
    "temp.head()"
   ]
  },
  {
   "cell_type": "code",
   "execution_count": 43,
   "metadata": {},
   "outputs": [
    {
     "name": "stdout",
     "output_type": "stream",
     "text": [
      "words in title are: ['number', 'cool', 'scienc', 'trick', 'make', 'friend', 'go', 'omg', 'diy', 'trick', 'life', 'hack', 'blossom', 'number', 'incred', 'scienc', 'fact', 'probabl', 'didnt', 'learn', 'school', 'number', 'amaz', 'experi', 'hand', 'sanit', 'easi', 'scienc', 'experi', 'sanit', 'number', 'easi', 'school', 'magic', 'trick', 'scienc', 'experi', 'वजञन', 'क', 'सबस', 'घतक', 'परयग', 'terribl', 'scienc', 'experi', 'ever', 'conduct', 'part', 'number', 'hindi', 'top', 'number', 'question', 'scienc', 'cant', 'answer', '_', 'hindi', 'number', 'amaz', 'scienc', 'experi', 'hindi', 'amaz', 'scienc', 'toysgadget', 'number', 'easi', 'scienc', 'experi', 'kid', 'number', 'amaz', 'scienc', 'experi', 'optic', 'illus', 'compil', 'scienc', 'cant', 'explain', 'caught', 'sky', 'easi', 'scienc', 'experi', 'tri', 'home', 'number', 'mysteri', 'event', 'make', 'question', 'realiti', 'boaz', 'almog', 'levit', 'superconductor', 'number', 'easi', 'scienc', 'experi', 'home', 'free', 'energi', 'gener', 'devic', 'magnet', 'dc', 'motor', '_', 'scienc', 'experi', 'home', 'number', 'awesom', 'scienc', 'trick', 'use', 'static', 'electr', 'सइस', 'क', 'number', 'खज', 'जनक', 'आग', 'भगवन', 'भ', 'फल', 'ह', 'scienc', 'top', 'number', 'amaz', 'discoveri', 'easi', 'diy', 'scienc', 'experi', 'kid', 'home', 'numberhr', 'learn', 'levit', 'edg', 'scienc', 'number', 'mysteri', 'thing', 'scienc', 'still', 'cant', 'explain', 'detail', 'syllabu', 'reduct', 'scienc', 'new', 'latest', 'syllabu', 'per', 'number', 'board', 'class', 'number', 'cbse', 'black', 'hole', 'broke', 'scienc', 'scienc', 'introduct', 'scienc', 'letstut', 'number', 'amaz', 'scienc', 'experi', 'compil', 'big', 'pictur', 'scienc', 'innov', 'technolog', 'polici', 'number', 'make', 'atm', 'machin', 'scienc', 'project', 'kid', 'home', 'made', 'cardboard', 'scienc', 'gk', 'hindi', 'import', 'scienc', 'question', 'gener', 'scienc', 'part', 'number', 'scienc', 'trick', 'number', 'easi', 'scienc', 'experi', 'home', 'top', 'number', 'hybrid', 'anim', 'creat', 'scientist', 'wont', 'believ', 'exist', 'number', 'दनय', 'क', 'कछ', 'गजब', 'तथय', 'amaz', 'fact', 'hindi', 'scienc', 'technolog', 'fact', 'number', 'amaz', 'scienc', 'gadget', 'incred', 'scienc', 'home', 'experi', 'amaz', 'scienc', 'toysgadget', 'number', 'god', 'explain', 'scienc', 'dr', 'zakir', 'naik', 'repli', 'hindu', 'urduhindi', 'answer', 'map', 'entir', 'apart', 'wifi', 'signal', 'solv', 'imposs', 'scienc', 'puzzl', 'even', 'possibl', 'electr', 'power', 'free', 'energi', 'gener', 'dc', 'motor', 'number', 'new', 'experi', 'scienc', 'project', 'home', 'cymat', 'scienc', 'vs', 'music', 'nigel', 'stanford', 'univers', 'interconnected', 'scienc', 'spiritu', 'studi', 'social', 'scienc', 'easili', 'sst', 'studi', 'number', 'day', 'plan', 'class', 'number', 'cbse', 'number', 'thing', 'bodi', 'scienc', 'still', 'cant', 'explain', 'number', 'incred', 'recent', 'discoveri', 'scienc', 'cant', 'explain', 'scienc', 'marathon', 'run', 'chang', 'dinosaur', 'famili', 'tree', 'moult', 'microraptor', 'number', 'day', 'scienc', 'scienc', 'milk', 'jonathan', 'j', 'osullivan', 'number', 'amaz', 'scienc', 'experi', 'number', 'amaz', 'scienc', 'trick', 'use', 'liquid', 'pepper', 'soap', 'scienc', 'experi', 'kid', 'easi', 'diy', 'activ', 'allout', 'war', 'scientist', 'warn', 'renew', 'nuclear', 'test', 'actual', 'happen', 'get', 'coronaviru', 'darth', 'vader', 'realli', 'strong', 'scienc', 'star', 'war', 'comput', 'scienc', 'vs', 'softwar', 'engin', 'pick', 'right', 'major', 'scientist', 'unveil', 'largest', 'numberd', 'map', 'univers', 'ever', 'gravita', 'mass', 'exodu', 'chines', 'institut', 'number', 'nuke', 'scientist', 'quit', 'carniv', 'scam', 'scienc', 'win', 'ryan', 'learn', 'easi', 'diy', 'scienc', 'experi', 'kid', 'make', 'homemad', 'volcano', 'number', 'studi', 'tip', 'scienc', 'better', 'learn', 'top', 'number', 'scienc', 'experi', 'experi', 'home', 'compil', 'polit', 'sciencenumb', 'part', 'numbernumb', 'origin', 'growth', 'indian', 'polit', 'system', 'chandranathm', 'number', 'incred', 'find', 'scientist', 'still', 'cant', 'explain', 'number', 'indian', 'street', 'food', 'dish', 'eat', 'die', 'patiala', 'rare', 'tribal', 'food', 'west', 'papua', 'dani', 'peopl', 'never', 'seen', 'camera', 'number', 'food', 'need', 'eat', 'die', 'ultim', 'list', 'street', 'food', 'peshawar', 'golden', 'pulao', 'mountain', 'charsi', 'tikka', 'kabab', 'pakistani', 'street', 'food', 'tour', 'number', 'delect', 'finger', 'food', 'recip', 'tasti', 'number', 'cheesi', 'food', 'need', 'eat', 'die', 'ultim', 'list', 'exot', 'food', 'recip', 'youll', 'want', 'tri', 'numberminut', 'recip', 'special', 'occas', 'mumbai', 'street', 'food', 'best', 'indian', 'street', 'food', 'number', 'giant', 'food', 'eat', 'die', 'ultim', 'list', 'delici', 'simpl', 'fast', 'food', 'recip', 'gordon', 'ramsay', 'icon', 'food', 'everi', 'state', 'number', 'state', 'favorit', 'street', 'food', 'look', 'like', 'around', 'world', 'ahmedabad', 'asia', 'bizarr', 'hot', 'pot', 'trigger', 'warn', 'extrem', 'food', 'us', 'vs', 'uk', 'mcdonald', 'food', 'war', 'extrem', 'iran', 'street', 'food', 'tour', 'tehran', 'iran', 'number', 'kg', 'lamb', 'plate', 'number', 'insan', 'street', 'food', 'iran', 'indian', 'street', 'food', 'tour', 'deep', 'punjab', 'india', 'best', 'street', 'food', 'india', 'best', 'curri', 'heaven', 'healthi', 'food', 'vs', 'junk', 'food', 'song', 'japanes', 'street', 'food', 'okonomiyaki', 'number', 'comfort', 'food', 'around', 'world', 'insan', 'street', 'food', 'turkey', 'number', 'level', 'best', 'street', 'food', 'gaziantep', 'turkey', 'delici', 'simpl', 'fast', 'food', 'recip', 'gordon', 'ramsay', 'icon', 'food', 'everi', 'state', 'number', 'state', 'favorit', 'number', 'crazi', 'food', 'idea', 'blow', 'mind', 'jamaica', 'kolkata', 'west', 'bengal', 'food', 'travel', 'ep', 'number', 'food', 'heaven', 'food', 'eat', 'affect', 'brain', 'mia', 'nacamulli', 'best', 'noodl', 'world', 'chines', 'fire', 'noodl', 'street', 'food', 'tour', 'chongq', 'extrem', 'tijuana', 'best', 'street', 'food', 'delhi', 'satisfi', 'video', 'best', 'indian', 'street', 'food', 'extrem', 'street', 'food', 'crab', 'malaysia', 'monster', 'crab', 'cook', 'number', 'crab', 'cook', 'number', 'way', 'ipoh', 'villag', 'food', 'amazon', 'rainforest', 'lemongrass', 'ant', 'exot', 'energi', 'drink', 'manau', 'brazil', 'extrem', 'street', 'food', 'asia', 'sloppi', 'street', 'burger', 'world', 'w', 'butter', 'egg', 'insan', 'thai', 'food', 'unbeliev', 'cook', 'skill', 'khao', 'lak', 'thailand', 'สดยอดอาหารใต', 'muzaffarpur', 'non', 'veg', 'food', 'tour', 'exot', 'trotter', 'godi', 'mutton', 'taa', 'chicken', 'lollypop', 'egg', 'roll', 'india', 'fastest', 'omelet', 'make', 'bread', 'chees', 'omelett', 'indian', 'street', 'food', 'tri', 'astronaut', 'steak', 'insan', 'spacex', 'food', 'amazon', 'street', 'food', 'belém', 'unbeliev', 'tacacá', 'number', 'ladi', 'cook', 'lunch', 'market', 'brazil', 'rare', 'tribal', 'food', 'namibia', 'himba', 'life', 'food', 'amaz', 'street', 'food', 'india', 'indian', 'street', 'food', 'north', 'indian', 'street', 'food', 'compil', 'arunach', 'pradesh', 'travel', 'happiest', 'countri', 'world', 'travel', 'itali', 'lockdown', 'dhruv', 'rathe', 'vlog', 'outstand', 'travel', 'hack', 'number', 'best', 'place', 'visit', 'europ', 'travel', 'europ', 'number', 'day', 'tourist', 'somalia', 'extrem', 'travel', 'somalia', 'ultim', 'jerusalem', 'food', 'tour', 'attract', 'palestinian', 'food', 'isra', 'food', 'old', 'jerusalem', 'number', 'best', 'place', 'visit', 'india', 'travel', 'video', 'welcom', 'bali', 'travel', 'vlog', 'priscilla', 'lee', 'rick', 'steve', 'notravel', 'tip', 'travel', 'bali', 'number', 'day', 'paradis', 'ultim', 'mexican', 'street', 'food', 'taco', 'tour', 'mexico', 'citi', 'ft', 'la', 'ruta', 'de', 'la', 'garnacha', 'afford', 'travel', 'time', 'top', 'question', 'answer', 'number', 'thai', 'street', 'food', 'ultim', 'chinatown', 'bangkok', 'tour', 'เยาวราช', 'bangkok', 'day', 'number', 'kolkata', 'food', 'travel', 'ep', 'number', 'kathi', 'kabab', 'telebhaja', 'fruit', 'cake', 'gobbl', 'travel', 'seri', 'bazaar', 'travel', 'snumberenumb', 'jodhpur', 'ft', 'barkha', 'singh', 'travel', 'siargao', 'next', 'bali', 'number', 'day', 'trip', 'around', 'world', 'travel', 'film', 'number', 'beauti', 'island', 'world', 'travel', 'video', 'road', 'trip', 'indiepopfolkrock', 'playlist', 'vol', 'number', 'rick', 'steve', 'notravel', 'tip', 'travel', 'bali', 'number', 'day', 'paradis', 'top', 'ten', 'cheapest', 'countri', 'travel', 'india', 'number', 'budget', 'travel', 'cheap', 'flight', 'visa', 'hạ', 'long', 'bay', 'islamabad', 'kumrat', 'valley', 'road', 'travel', 'june', 'number', 'number', 'top', 'underr', 'place', 'travel', 'quarantin', 'best', 'destin', 'number', 'bora', 'bora', 'vacat', 'travel', 'guid', 'expedia', 'fund', 'unlimit', 'nonstop', 'intern', 'travel', 'work', 'educ', 'busi', 'lifestyl', 'number', 'smart', 'travel', 'hack', 'futur', 'trip', 'pari', 'vacat', 'travel', 'guid', 'expedia', 'sikkim', 'tourism', 'video', 'india', 'travel', 'north', 'east', 'india', 'travel', 'bean', 'mr', 'bean', 'full', 'episod', 'mr', 'bean', 'offici', 'japan', 'short', 'travel', 'film', 'covidnumb', 'singapor', 'work', 'japan', 'resum', 'essenti', 'travel', 'number', 'year', 'travel', 'vlog', 'number', 'countri', 'kolkata', 'west', 'bengal', 'food', 'travel', 'ep', 'number', 'food', 'heaven', 'indian', 'street', 'food', 'tour', 'deep', 'punjab', 'india', 'best', 'street', 'food', 'india', 'best', 'curri', 'heaven', 'extrem', 'iran', 'street', 'food', 'tour', 'tehran', 'iran', 'number', 'kg', 'lamb', 'plate', 'number', 'insan', 'street', 'food', 'iran', 'street', 'food', 'peshawar', 'golden', 'pulao', 'mountain', 'charsi', 'tikka', 'kabab', 'pakistani', 'street', 'food', 'tour', 'mumbai', 'street', 'food', 'best', 'indian', 'street', 'food', 'number', 'smart', 'travel', 'hack', 'solv', 'troubl', 'first', 'trip', 'ireland', 'travel', 'film', 'number', 'day', 'trip', 'around', 'world', 'travel', 'film', 'alberta', 'iceland', 'vacat', 'travel', 'guid', 'expedia', 'monaco', 'vacat', 'travel', 'guid', 'expedia', 'travel', 'world', 'number', 'year', 'chri', 'roger', 'barcelona', 'transylvania', 'japan', 'balochistan', 'travel', 'train', 'quetta', 'food', 'place', 'travel', 'pakistan', 'much', 'cost', 'travel', 'world', 'number', 'year', 'insid', 'afghanistan', 'number', 'extrem', 'travel', 'afghanistan', 'dublin', 'vacat', 'travel', 'guid', 'expedia', 'number', 'littleknown', 'airport', 'fact', 'travel', 'easier', 'pragu', 'vacat', 'travel', 'guid', 'expedia', 'travel', 'style', 'without', 'break', 'bank', 'invicta', 'motorhom', 'first', 'drive', 'review', 'tfl', 'camper', 'corner', 'osaka', 'vacat', 'travel', 'guid', 'expedia', 'world', 'top', 'number', 'incred', 'travel', 'destin', 'ed', 'sheeran', 'shape', 'offici', 'video', 'imagin', 'dragon', 'believ', 'imagin', 'dragon', 'thunder', 'new', 'hindi', 'song', 'number', 'juli', 'top', 'bollywood', 'romant', 'love', 'song', 'number', 'best', 'indian', 'song', 'number', 'hindi', 'heart', 'touch', 'song', 'number', 'bollywood', 'hit', 'song', 'number', 'juli', 'new', 'hindi', 'romant', 'song', 'number', 'numbernumbernumb', 'viewsfeb', 'number', 'number', 'r', 'nait', 'distanc', 'age', 'offici', 'video', 'ft', 'gurlej', 'akhtar', 'latest', 'punjabi', 'song', 'number', 'speed', 'record', 'lui', 'fonsi', 'despacito', 'ft', 'daddi', 'yanke', 'full', 'song', 'khairiyat', 'bonu', 'track', 'chhichhor', 'sushant', 'shraddha', 'pritam', 'amitabh', 'barijit', 'singh', 'tender', 'love', 'indiefolkpop', 'playlist', 'vol', 'number', 'road', 'trip', 'best', 'song', 'ever', 'indiepopfolkrock', 'playlist', 'vol', 'number', 'top', 'hit', 'number', 'popular', 'song', 'number', 'best', 'english', 'song', 'number', 'wanderlust', 'indiefolkpop', 'playlist', 'vol', 'kurta', 'pajama', 'toni', 'kakkar', 'ft', 'shehnaaz', 'gill', 'latest', 'punjabi', 'song', 'number', 'akul', 'bahana', 'offici', 'video', 'mellow', 'diffuni', 'latest', 'romant', 'love', 'song', 'number', 'vyrlorigin', 'best', 'indi', 'folk', 'number', 'beach', 'day', 'summer', 'indiefolkpop', 'playlist', 'shawn', 'mend', 'camila', 'cabello', 'señorita', 'tone', 'danc', 'monkey', 'offici', 'video', 'new', 'hindi', 'song', 'number', 'juli', 'top', 'bollywood', 'romant', 'love', 'song', 'number', 'best', 'indian', 'song', 'number', 'blippi', 'visit', 'kid', 'museum', 'number', 'hour', 'learn', 'fun', 'blippi', 'educ', 'video', 'kid', 'ski', 'mask', 'slump', 'god', 'burn', 'hood', 'dir', '_colebennett_', 'bollywood', 'hit', 'song', 'number', 'juli', 'new', 'hindi', 'romant', 'song', 'number', 'juli', 'hindi', 'heart', 'touch', 'song', 'number', 'peppa', 'pig', 'offici', 'channel', 'peppa', 'pig', 'treasur', 'hunt', 'hindi', 'romant', 'love', 'song', 'number', 'new', 'bollywood', 'heart', 'touch', 'song', 'top', 'indian', 'hit', 'song', 'number', 'hit', 'armaan', 'malik', 'birthday', 'special', 'best', 'armaan', 'malik', 'song', 'audio', 'jukebox', 'tseri', 'ed', 'sheeran', 'shape', 'offici', 'video', 'hindi', 'heart', 'touch', 'song', 'number', 'bollywood', 'hit', 'song', 'number', 'juli', 'new', 'hindi', 'romant', 'song', 'number', 'studi', 'music', 'alpha', 'wave', 'relax', 'studi', 'music', 'brain', 'power', 'focu', 'concentr', 'music', 'number', 'hindi', 'heart', 'touch', 'song', 'number', 'bollywood', 'hit', 'song', 'number', 'juli', 'new', 'hindi', 'romant', 'song', 'number', 'hindi', 'heart', 'touch', 'song', 'number', 'bollywood', 'hit', 'song', 'number', 'juli', 'new', 'hindi', 'romant', 'song', 'number', 'vaast', 'song', 'dhvani', 'bhanushali', 'tanishk', 'bagchi', 'nikhil', 'bhushan', 'kumar', 'radhika', 'rao', 'vinay', 'sapru', 'ghungroo', 'song', 'war', 'hrithik', 'roshan', 'vaani', 'kapoor', 'vishal', 'shekhar', 'ft', 'arijit', 'singh', 'shilpa', 'rao', 'lehanga', 'jass', 'manak', 'offici', 'video', 'satti', 'dhillon', 'latest', 'punjabi', 'song', 'gk', 'digit', 'geet', 'mpnumber', 'full', 'song', 'muqabla', 'street', 'dancer', 'numberd', 'ar', 'rahman', 'prabhudeva', 'varun', 'shraddha', 'k', 'tanishk', 'b', 'full', 'song', 'garmi', 'street', 'dancer', 'numberd', 'varun', 'nora', 'f', 'badshah', 'neha', 'k', 'remo', 'full', 'song', 'saki', 'saki', 'batla', 'hous', 'nora', 'fatehi', 'tanishk', 'bneha', 'ktulsi', 'k', 'b', 'praakvishalshekhar', 'dilbar', 'full', 'song', 'satyameva', 'jayat', 'john', 'abraham', 'nora', 'fatehi', 'tanishk', 'b', 'neha', 'kakkar', 'ikka', 'dhvani', 'aksar', 'duniya', 'mein', 'hd', 'video', 'song', 'suniel', 'shetti', 'mahima', 'choudhari', 'dhadkan', 'bollywood', 'song', 'hook', 'song', 'student', 'year', 'number', 'tiger', 'shroff', 'alia', 'vishal', 'shekhar', 'neha', 'kakkarkumaar', 'deewani', 'mastani', 'full', 'video', 'song', 'bajirao', 'mastani', 'jagga', 'jasoo', 'galti', 'se', 'mistak', 'video', 'song', 'ranbir', 'katrina', 'pritam', 'arijit', 'amit', 'amitabh', 'b', 'maari', 'number', 'rowdi', 'babi', 'video', 'song', 'dhanush', 'sai', 'pallavi', 'yuvan', 'shankar', 'raja', 'balaji', 'mohan', 'shakira', 'waka', 'waka', 'time', 'africa', 'offici', 'number', 'fifa', 'world', 'cup', 'song', 'healthi', 'food', 'vs', 'junk', 'food', 'song', 'cymat', 'scienc', 'vs', 'music', 'nigel', 'stanford', 'road', 'trip', 'indiepopfolkrock', 'playlist', 'vol', 'number', 'moto', 'offici', 'video', 'ajay', 'hooda', 'diler', 'kharkiya', 'anjali', 'raghav', 'latest', 'haryanvi', 'song', 'number', 'kya', 'khoob', 'lagti', 'ho', 'mukesh', 'kanchan', 'dharmatma', 'number', 'song', 'hema', 'malini', 'feroz', 'khan', 'gedi', 'rule', 'offici', 'video', 'akay', 'pendu', 'boyz', 'jerri', 'latest', 'punjabi', 'song', 'numbernew', 'punjabi', 'song', 'himanshi', 'khurana', 'full', 'song', 'distanc', 'bunti', 'bain', 'desi', 'crew', 'latest', 'punjabi', 'song', 'number', 'b', 'praak', 'dil', 'tod', 'ke', 'offici', 'song', 'rochak', 'kohli', 'manoj', 'abhishek', 'kaashish', 'v', 'bhushan', 'kumar', 'jatta', 'jatta', 'lyric', 'video', 'param', 'sidhu', 'new', 'punjabi', 'song', 'number', 'latest', 'punjabi', 'song', 'number', 'ek', 'tarfa', 'darshan', 'raval', 'offici', 'music', 'video', 'romant', 'song', 'number', 'indi', 'music', 'label', 'auzaar', 'satind', 'sartaaj', 'offici', 'video', 'new', 'punjabi', 'song', 'number', 'saga', 'music', 'rider', 'full', 'song', 'mind', 'block', 'full', 'video', 'song', 'sarileru', 'neekevvaru', 'video', 'song', 'numberk', 'mahesh', 'babu', 'rashmika', 'dsp', 'top', 'song', 'number', 'top', 'number', 'popular', 'song', 'collect', 'number', 'best', 'english', 'music', 'playlist', 'number', 'palko', 'ko', 'chum', 'gayi', 'hd', 'priyatama', 'number', 'song', 'jeetendra', 'neetu', 'singh', 'hit', 'song', 'marshmello', 'alon', 'offici', 'music', 'video', 'jgeco', 'chicken', 'song', 'hosh', 'offici', 'hd', 'video', 'nikk', 'mahira', 'sharma', 'roxa', 'latest', 'punjabi', 'song', 'number', 'new', 'punjabi', 'song']\n",
      "total words in title are: 1820\n"
     ]
    }
   ],
   "source": [
    "# Printing word tokens of 'title' column\n",
    "\n",
    "from nltk.tokenize import word_tokenize\n",
    "\n",
    "all_words=[]\n",
    "word_tokens=[]\n",
    "for i in range(0, len(temp['new_title'])):\n",
    "    word_tokens= word_tokenize(temp['new_title'][i])\n",
    "    for w in word_tokens:\n",
    "        all_words.append(w)\n",
    "\n",
    "print(f'words in title are: {all_words}')\n",
    "print(f'total words in title are: {len(all_words)}')"
   ]
  },
  {
   "cell_type": "code",
   "execution_count": 44,
   "metadata": {},
   "outputs": [
    {
     "data": {
      "image/png": "[encoded data removed]",
      "text/plain": [
       "<Figure size 432x288 with 1 Axes>"
      ]
     },
     "metadata": {
      "needs_background": "light"
     },
     "output_type": "display_data"
    },
    {
     "data": {
      "text/plain": [
       "<matplotlib.axes._subplots.AxesSubplot at 0x27ca0782a48>"
      ]
     },
     "execution_count": 44,
     "metadata": {},
     "output_type": "execute_result"
    }
   ],
   "source": [
    "cts= nltk.FreqDist(all_words)\n",
    "cts.plot(40) # top common 40 words are showing below in 'title' column"
   ]
  },
  {
   "cell_type": "code",
   "execution_count": 45,
   "metadata": {},
   "outputs": [
    {
     "name": "stdout",
     "output_type": "stream",
     "text": [
      "total words in Description are: 7521\n"
     ]
    }
   ],
   "source": [
    "# Printing word tokens ofr 'Description' column\n",
    "\n",
    "all_words=[]\n",
    "word_tokens=[]\n",
    "for i in range(0, len(temp['new_description'])):\n",
    "    word_tokens= word_tokenize(temp['new_description'][i])\n",
    "    for w in word_tokens:\n",
    "        all_words.append(w)\n",
    "\n",
    "# print(f'words in title are: {all_words}')\n",
    "print(f'total words in Description are: {len(all_words)}')"
   ]
  },
  {
   "cell_type": "code",
   "execution_count": 46,
   "metadata": {},
   "outputs": [
    {
     "data": {
      "image/png": "[encoded data removed]",
      "text/plain": [
       "<Figure size 432x288 with 1 Axes>"
      ]
     },
     "metadata": {
      "needs_background": "light"
     },
     "output_type": "display_data"
    },
    {
     "data": {
      "text/plain": [
       "<matplotlib.axes._subplots.AxesSubplot at 0x27ca07a7b88>"
      ]
     },
     "execution_count": 46,
     "metadata": {},
     "output_type": "execute_result"
    }
   ],
   "source": [
    "cts= nltk.FreqDist(all_words)\n",
    "cts.plot(40) # top common 40 words are showing below in 'description' column"
   ]
  },
  {
   "cell_type": "code",
   "execution_count": 52,
   "metadata": {},
   "outputs": [
    {
     "data": {
      "text/html": [
       "<div>\n",
       "<style scoped>\n",
       "    .dataframe tbody tr th:only-of-type {\n",
       "        vertical-align: middle;\n",
       "    }\n",
       "\n",
       "    .dataframe tbody tr th {\n",
       "        vertical-align: top;\n",
       "    }\n",
       "\n",
       "    .dataframe thead th {\n",
       "        text-align: right;\n",
       "    }\n",
       "</style>\n",
       "<table border=\"1\" class=\"dataframe\">\n",
       "  <thead>\n",
       "    <tr style=\"text-align: right;\">\n",
       "      <th></th>\n",
       "      <th>link</th>\n",
       "      <th>title</th>\n",
       "      <th>Description</th>\n",
       "      <th>Category</th>\n",
       "      <th>Descrip_length</th>\n",
       "      <th>title_length</th>\n",
       "      <th>new_title</th>\n",
       "      <th>new_description</th>\n",
       "      <th>newtitle_length</th>\n",
       "      <th>newDesc_length</th>\n",
       "      <th>paragraph</th>\n",
       "    </tr>\n",
       "  </thead>\n",
       "  <tbody>\n",
       "    <tr>\n",
       "      <th>0</th>\n",
       "      <td>U8X-fd_zQQ</td>\n",
       "      <td>number Cool Science Tricks That Will Make Your...</td>\n",
       "      <td>Impress your friends this weekend with these n...</td>\n",
       "      <td>Science</td>\n",
       "      <td>241</td>\n",
       "      <td>99</td>\n",
       "      <td>number cool scienc trick make friend go omg di...</td>\n",
       "      <td>impress friend weekend number cool scienc tric...</td>\n",
       "      <td>71</td>\n",
       "      <td>124</td>\n",
       "      <td>number cool scienc trick make friend go omg di...</td>\n",
       "    </tr>\n",
       "    <tr>\n",
       "      <th>1</th>\n",
       "      <td>VoLZXXQL-YY</td>\n",
       "      <td>number Incredible Science Facts You Probably D...</td>\n",
       "      <td>Common scientific facts you wont believe are r...</td>\n",
       "      <td>Science</td>\n",
       "      <td>274</td>\n",
       "      <td>66</td>\n",
       "      <td>number incred scienc fact probabl didnt learn ...</td>\n",
       "      <td>common scientif fact wont believ real well per...</td>\n",
       "      <td>52</td>\n",
       "      <td>169</td>\n",
       "      <td>number incred scienc fact probabl didnt learn ...</td>\n",
       "    </tr>\n",
       "    <tr>\n",
       "      <th>2</th>\n",
       "      <td>DZcofvSqLHI</td>\n",
       "      <td>number Amazing Experiments With Hand Sanitizer...</td>\n",
       "      <td>number Simple Science Experiments With Hand Sa...</td>\n",
       "      <td>Science</td>\n",
       "      <td>973</td>\n",
       "      <td>87</td>\n",
       "      <td>number amaz experi hand sanit easi scienc expe...</td>\n",
       "      <td>number simpl scienc experi hand sanit hello gu...</td>\n",
       "      <td>54</td>\n",
       "      <td>622</td>\n",
       "      <td>number amaz experi hand sanit easi scienc expe...</td>\n",
       "    </tr>\n",
       "    <tr>\n",
       "      <th>3</th>\n",
       "      <td>OY6RgrDKQ</td>\n",
       "      <td>number EASY SCHOOL MAGIC TRICKS AND SCIENCE EX...</td>\n",
       "      <td>UNEXPECTED TRICKS AND IDEAS FOR KIDS There are...</td>\n",
       "      <td>Science</td>\n",
       "      <td>1496</td>\n",
       "      <td>55</td>\n",
       "      <td>number easi school magic trick scienc experi</td>\n",
       "      <td>unexpect trick idea kid mani scienc trick perf...</td>\n",
       "      <td>44</td>\n",
       "      <td>864</td>\n",
       "      <td>number easi school magic trick scienc experi u...</td>\n",
       "    </tr>\n",
       "    <tr>\n",
       "      <th>4</th>\n",
       "      <td>i_2PtL7cRyE</td>\n",
       "      <td>वजञन क सबस घतक परयग Terrible Science Experimen...</td>\n",
       "      <td>mYTH Tv India MTInumber</td>\n",
       "      <td>Science</td>\n",
       "      <td>19</td>\n",
       "      <td>84</td>\n",
       "      <td>वजञन क सबस घतक परयग terribl scienc experi ever...</td>\n",
       "      <td>myth tv india mtinumb</td>\n",
       "      <td>72</td>\n",
       "      <td>21</td>\n",
       "      <td>वजञन क सबस घतक परयग terribl scienc experi ever...</td>\n",
       "    </tr>\n",
       "  </tbody>\n",
       "</table>\n",
       "</div>"
      ],
      "text/plain": [
       "          link                                              title  \\\n",
       "0   U8X-fd_zQQ  number Cool Science Tricks That Will Make Your...   \n",
       "1  VoLZXXQL-YY  number Incredible Science Facts You Probably D...   \n",
       "2  DZcofvSqLHI  number Amazing Experiments With Hand Sanitizer...   \n",
       "3    OY6RgrDKQ  number EASY SCHOOL MAGIC TRICKS AND SCIENCE EX...   \n",
       "4  i_2PtL7cRyE  वजञन क सबस घतक परयग Terrible Science Experimen...   \n",
       "\n",
       "                                         Description Category  Descrip_length  \\\n",
       "0  Impress your friends this weekend with these n...  Science             241   \n",
       "1  Common scientific facts you wont believe are r...  Science             274   \n",
       "2  number Simple Science Experiments With Hand Sa...  Science             973   \n",
       "3  UNEXPECTED TRICKS AND IDEAS FOR KIDS There are...  Science            1496   \n",
       "4                            mYTH Tv India MTInumber  Science              19   \n",
       "\n",
       "   title_length                                          new_title  \\\n",
       "0            99  number cool scienc trick make friend go omg di...   \n",
       "1            66  number incred scienc fact probabl didnt learn ...   \n",
       "2            87  number amaz experi hand sanit easi scienc expe...   \n",
       "3            55       number easi school magic trick scienc experi   \n",
       "4            84  वजञन क सबस घतक परयग terribl scienc experi ever...   \n",
       "\n",
       "                                     new_description  newtitle_length  \\\n",
       "0  impress friend weekend number cool scienc tric...               71   \n",
       "1  common scientif fact wont believ real well per...               52   \n",
       "2  number simpl scienc experi hand sanit hello gu...               54   \n",
       "3  unexpect trick idea kid mani scienc trick perf...               44   \n",
       "4                              myth tv india mtinumb               72   \n",
       "\n",
       "   newDesc_length                                          paragraph  \n",
       "0             124  number cool scienc trick make friend go omg di...  \n",
       "1             169  number incred scienc fact probabl didnt learn ...  \n",
       "2             622  number amaz experi hand sanit easi scienc expe...  \n",
       "3             864  number easi school magic trick scienc experi u...  \n",
       "4              21  वजञन क सबस घतक परयग terribl scienc experi ever...  "
      ]
     },
     "execution_count": 52,
     "metadata": {},
     "output_type": "execute_result"
    }
   ],
   "source": [
    "# Now Joining both title and description to make one text\n",
    "\n",
    "for row in range(0, len(temp.index)):\n",
    "    temp.loc[row,'paragraph']= [' '.join(str(line) for line in temp.iloc[row,6:8])] #merging all line into one\n",
    "\n",
    "\n",
    "temp.head()"
   ]
  },
  {
   "cell_type": "code",
   "execution_count": 53,
   "metadata": {},
   "outputs": [
    {
     "name": "stdout",
     "output_type": "stream",
     "text": [
      "hindi heart touch song number bollywood hit song number juli new hindi romant song number\n",
      "hindi heart touch song number bollywood hit song number juli new hindi romant song number hello thank check much love music also love make movi part adventur channel see varieti video made music collect cover song music video wed film short film documentari film even corpor video visit social media link comment suggest need someon talk subscrib fanpag\n",
      "hindi heart touch song number bollywood hit song number juli new hindi romant song number hindi heart touch song number bollywood hit song number juli new hindi romant song number hello thank check much love music also love make movi part adventur channel see varieti video made music collect cover song music video wed film short film documentari film even corpor video visit social media link comment suggest need someon talk subscrib fanpag\n"
     ]
    }
   ],
   "source": [
    "#CHecking one reference whether we did it correct\n",
    "\n",
    "print(temp.new_title[165])\n",
    "print(temp.new_description[165], sep='\\n')\n",
    "print(temp.paragraph[165])"
   ]
  },
  {
   "cell_type": "markdown",
   "metadata": {},
   "source": [
    "### Dataset splitting in train and test"
   ]
  },
  {
   "cell_type": "code",
   "execution_count": 54,
   "metadata": {},
   "outputs": [],
   "source": [
    "X= temp['paragraph']\n",
    "Y= temp['Category']"
   ]
  },
  {
   "cell_type": "code",
   "execution_count": 55,
   "metadata": {},
   "outputs": [
    {
     "name": "stdout",
     "output_type": "stream",
     "text": [
      "(156,)\n",
      "(67,)\n",
      "(156,)\n",
      "(67,)\n"
     ]
    }
   ],
   "source": [
    "# Splitting dataset fro traing and test\n",
    "from sklearn.model_selection import  train_test_split\n",
    "X_train, X_test, y_train, y_test = train_test_split(X, Y, test_size = 0.3, random_state = 0)\n",
    "print(X_train.shape)\n",
    "print(X_test.shape)\n",
    "print(y_train.shape)\n",
    "print(y_test.shape)"
   ]
  },
  {
   "cell_type": "code",
   "execution_count": 56,
   "metadata": {},
   "outputs": [
    {
     "name": "stdout",
     "output_type": "stream",
     "text": [
      "[0 2 2 3 2 3 1 2 0 1 3 1 1 3 0 2 3 2 2 0 3 0 3 0 3 1 3 3 3 3 1 3 3 2 1 1 0\n",
      " 1 0 2 0 3 3 3 2 1 3 2 2 3 3 2 2 1 3 3 2 1 2 1 0 1 0 2 0 1 0]\n"
     ]
    }
   ],
   "source": [
    "# Encoding Target variable\n",
    "\n",
    "from sklearn.preprocessing import LabelEncoder\n",
    "\n",
    "le= LabelEncoder()\n",
    "le.fit(y_train)\n",
    "y_train= le.transform(y_train) # transforming train variable\n",
    "\n",
    "y_test= le.transform(y_test) # transforming test variable\n",
    "\n",
    "print(y_test)"
   ]
  },
  {
   "cell_type": "markdown",
   "metadata": {},
   "source": [
    "### Converting words to vector"
   ]
  },
  {
   "cell_type": "code",
   "execution_count": 57,
   "metadata": {},
   "outputs": [
    {
     "name": "stdout",
     "output_type": "stream",
     "text": [
      "(156, 2068)\n",
      "(67, 2068)\n"
     ]
    }
   ],
   "source": [
    "# Now, Using Countvectorizer to convert all words into vector\n",
    "from sklearn.feature_extraction.text import CountVectorizer\n",
    "\n",
    "\n",
    "cv= CountVectorizer()\n",
    "cv=  cv.fit(X_train)\n",
    "train_data= cv.transform(X_train)  # same is above, only dataframe is using here\n",
    "\n",
    "test_data= cv.transform(X_test) # Using a pipeline, you would fuse the TFIDFVectorizer with your model into a single object that does the transformation and prediction in a single step. It's easier to maintain a solid methodology within that pattern.\n",
    "\n",
    "print(train_data.shape)\n",
    "print(test_data.shape) "
   ]
  },
  {
   "cell_type": "code",
   "execution_count": 58,
   "metadata": {},
   "outputs": [
    {
     "data": {
      "text/plain": [
       "CountVectorizer(analyzer='word', binary=False, decode_error='strict',\n",
       "                dtype=<class 'numpy.int64'>, encoding='utf-8', input='content',\n",
       "                lowercase=True, max_df=1.0, max_features=None, min_df=1,\n",
       "                ngram_range=(1, 1), preprocessor=None, stop_words=None,\n",
       "                strip_accents=None, token_pattern='(?u)\\\\b\\\\w\\\\w+\\\\b',\n",
       "                tokenizer=None, vocabulary=None)"
      ]
     },
     "execution_count": 58,
     "metadata": {},
     "output_type": "execute_result"
    }
   ],
   "source": [
    "cv"
   ]
  },
  {
   "cell_type": "code",
   "execution_count": 59,
   "metadata": {},
   "outputs": [
    {
     "data": {
      "text/plain": [
       "array([[0, 0, 0, ..., 0, 0, 0],\n",
       "       [0, 0, 0, ..., 0, 0, 0],\n",
       "       [0, 0, 0, ..., 0, 0, 0],\n",
       "       ...,\n",
       "       [0, 0, 0, ..., 0, 0, 0],\n",
       "       [0, 0, 0, ..., 0, 0, 0],\n",
       "       [0, 0, 0, ..., 0, 0, 0]], dtype=int64)"
      ]
     },
     "execution_count": 59,
     "metadata": {},
     "output_type": "execute_result"
    }
   ],
   "source": [
    "train_data.toarray()"
   ]
  },
  {
   "cell_type": "code",
   "execution_count": 60,
   "metadata": {},
   "outputs": [
    {
     "data": {
      "text/html": [
       "<div>\n",
       "<style scoped>\n",
       "    .dataframe tbody tr th:only-of-type {\n",
       "        vertical-align: middle;\n",
       "    }\n",
       "\n",
       "    .dataframe tbody tr th {\n",
       "        vertical-align: top;\n",
       "    }\n",
       "\n",
       "    .dataframe thead th {\n",
       "        text-align: right;\n",
       "    }\n",
       "</style>\n",
       "<table border=\"1\" class=\"dataframe\">\n",
       "  <thead>\n",
       "    <tr style=\"text-align: right;\">\n",
       "      <th></th>\n",
       "      <th>_____________________________________________</th>\n",
       "      <th>______________________________________________</th>\n",
       "      <th>abhishek</th>\n",
       "      <th>abl</th>\n",
       "      <th>abraham</th>\n",
       "      <th>abram</th>\n",
       "      <th>absolut</th>\n",
       "      <th>abyss</th>\n",
       "      <th>access</th>\n",
       "      <th>accord</th>\n",
       "      <th>...</th>\n",
       "      <th>मगर</th>\n",
       "      <th>मर</th>\n",
       "      <th>रह</th>\n",
       "      <th>वजञन</th>\n",
       "      <th>सइस</th>\n",
       "      <th>हम</th>\n",
       "      <th>हमर</th>\n",
       "      <th>ਔਜਰ</th>\n",
       "      <th>สดยอดอาหารใต</th>\n",
       "      <th>เยาวราช</th>\n",
       "    </tr>\n",
       "  </thead>\n",
       "  <tbody>\n",
       "    <tr>\n",
       "      <th>0</th>\n",
       "      <td>0</td>\n",
       "      <td>0</td>\n",
       "      <td>0</td>\n",
       "      <td>0</td>\n",
       "      <td>0</td>\n",
       "      <td>0</td>\n",
       "      <td>0</td>\n",
       "      <td>0</td>\n",
       "      <td>0</td>\n",
       "      <td>0</td>\n",
       "      <td>...</td>\n",
       "      <td>0</td>\n",
       "      <td>0</td>\n",
       "      <td>0</td>\n",
       "      <td>0</td>\n",
       "      <td>0</td>\n",
       "      <td>0</td>\n",
       "      <td>0</td>\n",
       "      <td>0</td>\n",
       "      <td>0</td>\n",
       "      <td>0</td>\n",
       "    </tr>\n",
       "    <tr>\n",
       "      <th>1</th>\n",
       "      <td>0</td>\n",
       "      <td>0</td>\n",
       "      <td>0</td>\n",
       "      <td>0</td>\n",
       "      <td>0</td>\n",
       "      <td>0</td>\n",
       "      <td>0</td>\n",
       "      <td>0</td>\n",
       "      <td>0</td>\n",
       "      <td>0</td>\n",
       "      <td>...</td>\n",
       "      <td>0</td>\n",
       "      <td>0</td>\n",
       "      <td>0</td>\n",
       "      <td>0</td>\n",
       "      <td>0</td>\n",
       "      <td>0</td>\n",
       "      <td>0</td>\n",
       "      <td>0</td>\n",
       "      <td>0</td>\n",
       "      <td>0</td>\n",
       "    </tr>\n",
       "    <tr>\n",
       "      <th>2</th>\n",
       "      <td>0</td>\n",
       "      <td>0</td>\n",
       "      <td>0</td>\n",
       "      <td>0</td>\n",
       "      <td>0</td>\n",
       "      <td>0</td>\n",
       "      <td>0</td>\n",
       "      <td>0</td>\n",
       "      <td>0</td>\n",
       "      <td>0</td>\n",
       "      <td>...</td>\n",
       "      <td>0</td>\n",
       "      <td>0</td>\n",
       "      <td>0</td>\n",
       "      <td>0</td>\n",
       "      <td>0</td>\n",
       "      <td>0</td>\n",
       "      <td>0</td>\n",
       "      <td>0</td>\n",
       "      <td>0</td>\n",
       "      <td>0</td>\n",
       "    </tr>\n",
       "    <tr>\n",
       "      <th>3</th>\n",
       "      <td>0</td>\n",
       "      <td>0</td>\n",
       "      <td>0</td>\n",
       "      <td>0</td>\n",
       "      <td>0</td>\n",
       "      <td>1</td>\n",
       "      <td>0</td>\n",
       "      <td>0</td>\n",
       "      <td>0</td>\n",
       "      <td>0</td>\n",
       "      <td>...</td>\n",
       "      <td>0</td>\n",
       "      <td>0</td>\n",
       "      <td>0</td>\n",
       "      <td>0</td>\n",
       "      <td>0</td>\n",
       "      <td>0</td>\n",
       "      <td>0</td>\n",
       "      <td>0</td>\n",
       "      <td>0</td>\n",
       "      <td>0</td>\n",
       "    </tr>\n",
       "    <tr>\n",
       "      <th>4</th>\n",
       "      <td>0</td>\n",
       "      <td>0</td>\n",
       "      <td>0</td>\n",
       "      <td>0</td>\n",
       "      <td>0</td>\n",
       "      <td>0</td>\n",
       "      <td>0</td>\n",
       "      <td>0</td>\n",
       "      <td>0</td>\n",
       "      <td>0</td>\n",
       "      <td>...</td>\n",
       "      <td>0</td>\n",
       "      <td>0</td>\n",
       "      <td>0</td>\n",
       "      <td>0</td>\n",
       "      <td>0</td>\n",
       "      <td>0</td>\n",
       "      <td>0</td>\n",
       "      <td>0</td>\n",
       "      <td>0</td>\n",
       "      <td>0</td>\n",
       "    </tr>\n",
       "    <tr>\n",
       "      <th>...</th>\n",
       "      <td>...</td>\n",
       "      <td>...</td>\n",
       "      <td>...</td>\n",
       "      <td>...</td>\n",
       "      <td>...</td>\n",
       "      <td>...</td>\n",
       "      <td>...</td>\n",
       "      <td>...</td>\n",
       "      <td>...</td>\n",
       "      <td>...</td>\n",
       "      <td>...</td>\n",
       "      <td>...</td>\n",
       "      <td>...</td>\n",
       "      <td>...</td>\n",
       "      <td>...</td>\n",
       "      <td>...</td>\n",
       "      <td>...</td>\n",
       "      <td>...</td>\n",
       "      <td>...</td>\n",
       "      <td>...</td>\n",
       "      <td>...</td>\n",
       "    </tr>\n",
       "    <tr>\n",
       "      <th>151</th>\n",
       "      <td>0</td>\n",
       "      <td>0</td>\n",
       "      <td>0</td>\n",
       "      <td>0</td>\n",
       "      <td>0</td>\n",
       "      <td>0</td>\n",
       "      <td>0</td>\n",
       "      <td>0</td>\n",
       "      <td>0</td>\n",
       "      <td>0</td>\n",
       "      <td>...</td>\n",
       "      <td>0</td>\n",
       "      <td>0</td>\n",
       "      <td>0</td>\n",
       "      <td>0</td>\n",
       "      <td>0</td>\n",
       "      <td>0</td>\n",
       "      <td>0</td>\n",
       "      <td>0</td>\n",
       "      <td>0</td>\n",
       "      <td>0</td>\n",
       "    </tr>\n",
       "    <tr>\n",
       "      <th>152</th>\n",
       "      <td>0</td>\n",
       "      <td>0</td>\n",
       "      <td>0</td>\n",
       "      <td>0</td>\n",
       "      <td>0</td>\n",
       "      <td>0</td>\n",
       "      <td>0</td>\n",
       "      <td>0</td>\n",
       "      <td>0</td>\n",
       "      <td>0</td>\n",
       "      <td>...</td>\n",
       "      <td>0</td>\n",
       "      <td>0</td>\n",
       "      <td>0</td>\n",
       "      <td>0</td>\n",
       "      <td>0</td>\n",
       "      <td>0</td>\n",
       "      <td>0</td>\n",
       "      <td>0</td>\n",
       "      <td>0</td>\n",
       "      <td>0</td>\n",
       "    </tr>\n",
       "    <tr>\n",
       "      <th>153</th>\n",
       "      <td>0</td>\n",
       "      <td>0</td>\n",
       "      <td>0</td>\n",
       "      <td>0</td>\n",
       "      <td>0</td>\n",
       "      <td>0</td>\n",
       "      <td>0</td>\n",
       "      <td>0</td>\n",
       "      <td>0</td>\n",
       "      <td>0</td>\n",
       "      <td>...</td>\n",
       "      <td>0</td>\n",
       "      <td>0</td>\n",
       "      <td>0</td>\n",
       "      <td>0</td>\n",
       "      <td>0</td>\n",
       "      <td>0</td>\n",
       "      <td>0</td>\n",
       "      <td>0</td>\n",
       "      <td>0</td>\n",
       "      <td>0</td>\n",
       "    </tr>\n",
       "    <tr>\n",
       "      <th>154</th>\n",
       "      <td>0</td>\n",
       "      <td>0</td>\n",
       "      <td>0</td>\n",
       "      <td>0</td>\n",
       "      <td>0</td>\n",
       "      <td>0</td>\n",
       "      <td>0</td>\n",
       "      <td>1</td>\n",
       "      <td>0</td>\n",
       "      <td>0</td>\n",
       "      <td>...</td>\n",
       "      <td>0</td>\n",
       "      <td>0</td>\n",
       "      <td>0</td>\n",
       "      <td>0</td>\n",
       "      <td>0</td>\n",
       "      <td>0</td>\n",
       "      <td>0</td>\n",
       "      <td>0</td>\n",
       "      <td>0</td>\n",
       "      <td>0</td>\n",
       "    </tr>\n",
       "    <tr>\n",
       "      <th>155</th>\n",
       "      <td>0</td>\n",
       "      <td>0</td>\n",
       "      <td>0</td>\n",
       "      <td>0</td>\n",
       "      <td>0</td>\n",
       "      <td>0</td>\n",
       "      <td>0</td>\n",
       "      <td>0</td>\n",
       "      <td>0</td>\n",
       "      <td>0</td>\n",
       "      <td>...</td>\n",
       "      <td>0</td>\n",
       "      <td>0</td>\n",
       "      <td>0</td>\n",
       "      <td>0</td>\n",
       "      <td>0</td>\n",
       "      <td>0</td>\n",
       "      <td>0</td>\n",
       "      <td>0</td>\n",
       "      <td>0</td>\n",
       "      <td>0</td>\n",
       "    </tr>\n",
       "  </tbody>\n",
       "</table>\n",
       "<p>156 rows × 2068 columns</p>\n",
       "</div>"
      ],
      "text/plain": [
       "     _____________________________________________  \\\n",
       "0                                                0   \n",
       "1                                                0   \n",
       "2                                                0   \n",
       "3                                                0   \n",
       "4                                                0   \n",
       "..                                             ...   \n",
       "151                                              0   \n",
       "152                                              0   \n",
       "153                                              0   \n",
       "154                                              0   \n",
       "155                                              0   \n",
       "\n",
       "     ______________________________________________  abhishek  abl  abraham  \\\n",
       "0                                                 0         0    0        0   \n",
       "1                                                 0         0    0        0   \n",
       "2                                                 0         0    0        0   \n",
       "3                                                 0         0    0        0   \n",
       "4                                                 0         0    0        0   \n",
       "..                                              ...       ...  ...      ...   \n",
       "151                                               0         0    0        0   \n",
       "152                                               0         0    0        0   \n",
       "153                                               0         0    0        0   \n",
       "154                                               0         0    0        0   \n",
       "155                                               0         0    0        0   \n",
       "\n",
       "     abram  absolut  abyss  access  accord  ...  मगर  मर  रह  वजञन  सइस  हम  \\\n",
       "0        0        0      0       0       0  ...    0   0   0     0    0   0   \n",
       "1        0        0      0       0       0  ...    0   0   0     0    0   0   \n",
       "2        0        0      0       0       0  ...    0   0   0     0    0   0   \n",
       "3        1        0      0       0       0  ...    0   0   0     0    0   0   \n",
       "4        0        0      0       0       0  ...    0   0   0     0    0   0   \n",
       "..     ...      ...    ...     ...     ...  ...  ...  ..  ..   ...  ...  ..   \n",
       "151      0        0      0       0       0  ...    0   0   0     0    0   0   \n",
       "152      0        0      0       0       0  ...    0   0   0     0    0   0   \n",
       "153      0        0      0       0       0  ...    0   0   0     0    0   0   \n",
       "154      0        0      1       0       0  ...    0   0   0     0    0   0   \n",
       "155      0        0      0       0       0  ...    0   0   0     0    0   0   \n",
       "\n",
       "     हमर  ਔਜਰ  สดยอดอาหารใต  เยาวราช  \n",
       "0      0    0             0        0  \n",
       "1      0    0             0        0  \n",
       "2      0    0             0        0  \n",
       "3      0    0             0        0  \n",
       "4      0    0             0        0  \n",
       "..   ...  ...           ...      ...  \n",
       "151    0    0             0        0  \n",
       "152    0    0             0        0  \n",
       "153    0    0             0        0  \n",
       "154    0    0             0        0  \n",
       "155    0    0             0        0  \n",
       "\n",
       "[156 rows x 2068 columns]"
      ]
     },
     "execution_count": 60,
     "metadata": {},
     "output_type": "execute_result"
    }
   ],
   "source": [
    "cv_df= pd.DataFrame(train_data.todense(),columns=cv.get_feature_names())\n",
    "cv_df"
   ]
  },
  {
   "cell_type": "code",
   "execution_count": 106,
   "metadata": {},
   "outputs": [
    {
     "name": "stdout",
     "output_type": "stream",
     "text": [
      "(156, 2068)\n",
      "(67, 2068)\n"
     ]
    }
   ],
   "source": [
    "# We have to give less weightage to common words and more importance to less common word\n",
    "\n",
    "from sklearn.feature_extraction.text import TfidfTransformer, TfidfVectorizer\n",
    "\n",
    "tfidf= TfidfVectorizer(ngram_range=(1, 1)) # ngram_range=(1, 1) works best in this case\n",
    "tfidf=  tfidf.fit(X_train)\n",
    "tfidf_train_data= tfidf.transform(X_train)  # same is above, only dataframe is using here\n",
    "\n",
    "tfidf_test_data= tfidf.transform(X_test) # Using a pipeline, you would fuse the TFIDFVectorizer with your model into a single object that does the transformation and prediction in a single step. It's easier to maintain a solid methodology within that pattern.\n",
    "\n",
    "print(tfidf_train_data.shape)\n",
    "print(tfidf_test_data.shape) "
   ]
  },
  {
   "cell_type": "code",
   "execution_count": 108,
   "metadata": {},
   "outputs": [],
   "source": [
    "# Saving tfidf object in a file\n",
    "\n",
    "pickle.dump(tfidf, open(\"tfidf.pickle\", \"wb\")) # writing object in file\n",
    "\n",
    "\n",
    "tfidf_loaded_model = pickle.load(open(filename, 'rb'))\n",
    "\n",
    "# pickle.dump(tfidf_train_data, open(\"train_data.pickle\", \"wb\"))\n",
    "# pickle.dump(tfidf_test_data, open(\"test_data.pickle\", \"wb\"))"
   ]
  },
  {
   "cell_type": "markdown",
   "metadata": {},
   "source": [
    "#### Random Forest"
   ]
  },
  {
   "cell_type": "code",
   "execution_count": 105,
   "metadata": {},
   "outputs": [
    {
     "name": "stdout",
     "output_type": "stream",
     "text": [
      "accuracy from Random classifier is 0.9253731343283582\n"
     ]
    }
   ],
   "source": [
    "# First we are making model\n",
    "\n",
    "from sklearn.ensemble import RandomForestClassifier\n",
    "from sklearn.metrics import accuracy_score, confusion_matrix, classification_report\n",
    "\n",
    "random_classifier = RandomForestClassifier(n_estimators = 100, criterion = 'entropy', random_state=0)\n",
    "\n",
    "random_classifier.fit(tfidf_train_data, y_train)\n",
    "y_pred = random_classifier.predict(tfidf_test_data)\n",
    "print(f'accuracy from Random classifier is {accuracy_score(y_test, y_pred)}')"
   ]
  },
  {
   "cell_type": "code",
   "execution_count": 81,
   "metadata": {},
   "outputs": [
    {
     "name": "stdout",
     "output_type": "stream",
     "text": [
      "[[12  0  1  0]\n",
      " [ 0 15  0  0]\n",
      " [ 1  0 16  0]\n",
      " [ 3  0  1 18]]\n"
     ]
    }
   ],
   "source": [
    "print(confusion_matrix(y_test, pred))"
   ]
  },
  {
   "cell_type": "code",
   "execution_count": 356,
   "metadata": {},
   "outputs": [
    {
     "name": "stdout",
     "output_type": "stream",
     "text": [
      "{'max_depth': 10, 'max_features': 'auto', 'n_estimators': 300}\n",
      "RandomForestClassifier(bootstrap=True, ccp_alpha=0.0, class_weight=None,\n",
      "                       criterion='gini', max_depth=10, max_features='auto',\n",
      "                       max_leaf_nodes=None, max_samples=None,\n",
      "                       min_impurity_decrease=0.0, min_impurity_split=None,\n",
      "                       min_samples_leaf=1, min_samples_split=2,\n",
      "                       min_weight_fraction_leaf=0.0, n_estimators=300,\n",
      "                       n_jobs=None, oob_score=False, random_state=None,\n",
      "                       verbose=0, warm_start=False)\n",
      "0.8\n"
     ]
    }
   ],
   "source": [
    "#-- By hyper parameter algorithm\n",
    "from sklearn.model_selection import GridSearchCV, RandomizedSearchCV\n",
    "rm= RandomForestClassifier()\n",
    "\n",
    "# # By Grid search CV , here no use of hyper tuning bcuz giving default details only\n",
    "param_grids= {'n_estimators': [i for i in range(100,500,100)], 'max_depth': [5,10, None], 'max_features': ['auto', 'sqrt', 'log2']} #taking time to execute\n",
    "grid= GridSearchCV(rm, param_grids)\n",
    "grid.fit(tfidf_train_data, y_train)\n",
    "print(grid.best_params_) #will give all best parameter--> here, {'criterion': 'gini', 'max_depth': None, 'max_features': 'auto', 'n_estimators': 100} which is by default only\n",
    "print(grid.best_estimator_) # will give all parameters present in randomclassifier\n",
    "grid_predictions= grid.predict(tfidf_test_data)\n",
    "print(accuracy_score(y_test, grid_predictions)) # getting .88 core by grid search CV\n",
    "# # print('\\n')"
   ]
  },
  {
   "cell_type": "code",
   "execution_count": 63,
   "metadata": {},
   "outputs": [
    {
     "name": "stdout",
     "output_type": "stream",
     "text": [
      "accuracy from Naive classifier is 0.9253731343283582\n"
     ]
    }
   ],
   "source": [
    "# From Naive Bayes Model\n",
    "\n",
    "from sklearn.naive_bayes import MultinomialNB #now trainging data\n",
    "nb=MultinomialNB()\n",
    "\n",
    "nb.fit(tfidf_train_data,y_train) #fiitng data\n",
    "\n",
    "predictions= nb.predict(tfidf_test_data)#now making prediction\n",
    "print(f'accuracy from Naive classifier is {accuracy_score(y_test, predictions)}')"
   ]
  },
  {
   "cell_type": "markdown",
   "metadata": {},
   "source": [
    "#### XGBoost"
   ]
  },
  {
   "cell_type": "code",
   "execution_count": 84,
   "metadata": {},
   "outputs": [
    {
     "name": "stdout",
     "output_type": "stream",
     "text": [
      "accuracy for training data from XGB classifier is 0.9104477611940298\n",
      "accuracy for test data from XGB classifier is 0.967948717948718\n"
     ]
    }
   ],
   "source": [
    "from xgboost import XGBClassifier\n",
    "xgb= XGBClassifier()\n",
    "\n",
    "xgb.fit(tfidf_train_data, y_train)\n",
    "pred= xgb.predict(tfidf_test_data)\n",
    "\n",
    "train_pred= xgb.predict(tfidf_train_data)\n",
    "print(f'accuracy for training data from XGB classifier is {accuracy_score(y_test, pred)}')\n",
    "print(f'accuracy for test data from XGB classifier is {accuracy_score(y_train, train_pred)}')\n"
   ]
  },
  {
   "cell_type": "code",
   "execution_count": 65,
   "metadata": {},
   "outputs": [
    {
     "name": "stdout",
     "output_type": "stream",
     "text": [
      "              precision    recall  f1-score   support\n",
      "\n",
      "           0       0.75      0.92      0.83        13\n",
      "           1       1.00      1.00      1.00        15\n",
      "           2       0.89      0.94      0.91        17\n",
      "           3       1.00      0.82      0.90        22\n",
      "\n",
      "    accuracy                           0.91        67\n",
      "   macro avg       0.91      0.92      0.91        67\n",
      "weighted avg       0.92      0.91      0.91        67\n",
      "\n"
     ]
    }
   ],
   "source": [
    "print(classification_report(y_test, pred))"
   ]
  },
  {
   "cell_type": "code",
   "execution_count": 66,
   "metadata": {},
   "outputs": [
    {
     "name": "stdout",
     "output_type": "stream",
     "text": [
      "[[12  0  1  0]\n",
      " [ 0 15  0  0]\n",
      " [ 1  0 16  0]\n",
      " [ 3  0  1 18]]\n"
     ]
    }
   ],
   "source": [
    "print(confusion_matrix(y_test, pred))"
   ]
  },
  {
   "cell_type": "code",
   "execution_count": 67,
   "metadata": {},
   "outputs": [],
   "source": [
    "params= {\n",
    "    'learning_rate': [0.05,0.10, 0.15, 0.20, 0.25, 0.30],\n",
    "    'max_depth': [3,4,5,6,7,8,10,12,15],\n",
    "    'min_child_weight': [1,3,5,7],\n",
    "    'gamma': [0.0,0.1,0.2,0.3, 0.4],\n",
    "    'colsample_bytree': [0.3, 0.4, 0.5, 0.7]\n",
    "}"
   ]
  },
  {
   "cell_type": "code",
   "execution_count": 74,
   "metadata": {},
   "outputs": [
    {
     "name": "stdout",
     "output_type": "stream",
     "text": [
      "Fitting 5 folds for each of 5 candidates, totalling 25 fits\n"
     ]
    },
    {
     "name": "stderr",
     "output_type": "stream",
     "text": [
      "[Parallel(n_jobs=-1)]: Using backend LokyBackend with 8 concurrent workers.\n",
      "[Parallel(n_jobs=-1)]: Done  19 out of  25 | elapsed:    0.9s remaining:    0.2s\n",
      "[Parallel(n_jobs=-1)]: Done  25 out of  25 | elapsed:    1.0s finished\n"
     ]
    },
    {
     "name": "stdout",
     "output_type": "stream",
     "text": [
      "XGBClassifier(base_score=0.5, booster='gbtree', colsample_bylevel=1,\n",
      "              colsample_bynode=1, colsample_bytree=0.4, gamma=0.0, gpu_id=-1,\n",
      "              importance_type='gain', interaction_constraints='',\n",
      "              learning_rate=0.25, max_delta_step=0, max_depth=10,\n",
      "              min_child_weight=1, missing=nan, monotone_constraints='()',\n",
      "              n_estimators=100, n_jobs=0, num_parallel_tree=1,\n",
      "              objective='multi:softprob', random_state=0, reg_alpha=0,\n",
      "              reg_lambda=1, scale_pos_weight=None, subsample=1,\n",
      "              tree_method='exact', validate_parameters=1, verbosity=None)\n",
      "{'min_child_weight': 1, 'max_depth': 10, 'learning_rate': 0.25, 'gamma': 0.0, 'colsample_bytree': 0.4}\n",
      "0.9253731343283582\n"
     ]
    }
   ],
   "source": [
    "from sklearn.model_selection import GridSearchCV, RandomizedSearchCV\n",
    "\n",
    "xgb_classify= XGBClassifier()\n",
    "\n",
    "random_search= RandomizedSearchCV(xgb_classify, param_distributions=params, n_iter=5,n_jobs= -1, cv=5, verbose=3)\n",
    "\n",
    "random_search.fit(tfidf_train_data, y_train)\n",
    "\n",
    "random_pred= random_search.predict(tfidf_test_data)\n",
    "\n",
    "print(random_search.best_estimator_)\n",
    "print(random_search.best_params_)\n",
    "print(accuracy_score(random_pred, y_test))"
   ]
  },
  {
   "cell_type": "code",
   "execution_count": 75,
   "metadata": {},
   "outputs": [
    {
     "name": "stdout",
     "output_type": "stream",
     "text": [
      "accuracy from XGB classifier is 92.53731343283582\n"
     ]
    }
   ],
   "source": [
    "# Getting good accuracy now 90% from 88% after Randomised CV\n",
    "\n",
    "xgb_object= XGBClassifier(min_child_weight= 1, max_depth= 10, learning_rate= 0.25, gamma= 0.0, colsample_bytree= 0.4)\n",
    "xgb_object.fit(tfidf_train_data, y_train)\n",
    "\n",
    "prediction= xgb_object.predict(tfidf_test_data)\n",
    "\n",
    "print(f'accuracy from XGB classifier is {accuracy_score(y_test, prediction)*100}')"
   ]
  },
  {
   "cell_type": "code",
   "execution_count": 111,
   "metadata": {},
   "outputs": [],
   "source": [
    "# Saving XGboost object in file for prediction in deployment\n",
    "\n",
    "import pickle\n",
    "\n",
    "filename = 'xgboost_model.pickle'\n",
    "\n",
    "pickle.dump(xgb_object, open(filename, 'wb'))\n",
    "\n",
    "xgb_loaded_model = pickle.load(open(filename, 'rb')) # uploading model "
   ]
  },
  {
   "cell_type": "code",
   "execution_count": 76,
   "metadata": {
    "scrolled": true
   },
   "outputs": [
    {
     "name": "stdout",
     "output_type": "stream",
     "text": [
      "              precision    recall  f1-score   support\n",
      "\n",
      "           0       0.80      0.92      0.86        13\n",
      "           1       1.00      1.00      1.00        15\n",
      "           2       0.94      0.94      0.94        17\n",
      "           3       0.95      0.86      0.90        22\n",
      "\n",
      "    accuracy                           0.93        67\n",
      "   macro avg       0.92      0.93      0.93        67\n",
      "weighted avg       0.93      0.93      0.93        67\n",
      "\n"
     ]
    }
   ],
   "source": [
    "# Precision and Recall values are fine\n",
    "\n",
    "print(classification_report(y_test, prediction))"
   ]
  },
  {
   "cell_type": "code",
   "execution_count": 85,
   "metadata": {},
   "outputs": [
    {
     "data": {
      "text/plain": [
       "array([0, 2, 2, 3, 2, 2, 1, 2, 0, 1, 3, 1, 1, 3, 0, 2, 0, 0, 2, 0, 3, 2,\n",
       "       3, 0, 3, 1, 3, 3, 3, 3, 1, 3, 0, 2, 1, 1, 0, 1, 0, 2, 0, 3, 0, 3,\n",
       "       2, 1, 3, 2, 2, 0, 3, 2, 2, 1, 3, 3, 2, 1, 2, 1, 0, 1, 0, 2, 0, 1,\n",
       "       0])"
      ]
     },
     "execution_count": 85,
     "metadata": {},
     "output_type": "execute_result"
    }
   ],
   "source": [
    "prediction"
   ]
  },
  {
   "cell_type": "code",
   "execution_count": 107,
   "metadata": {},
   "outputs": [
    {
     "data": {
      "text/plain": [
       "array([[0.58462316, 0.04044724, 0.09383547, 0.28109413],\n",
       "       [0.00495837, 0.01061431, 0.9762107 , 0.00821663],\n",
       "       [0.00488354, 0.00601201, 0.97619677, 0.0129077 ]], dtype=float32)"
      ]
     },
     "execution_count": 107,
     "metadata": {},
     "output_type": "execute_result"
    }
   ],
   "source": [
    "pred_prob= xgb_object.predict_proba(tfidf_test_data)\n",
    "pred_prob[:3]"
   ]
  },
  {
   "cell_type": "markdown",
   "metadata": {},
   "source": [
    "#### Adaboost"
   ]
  },
  {
   "cell_type": "code",
   "execution_count": 79,
   "metadata": {},
   "outputs": [
    {
     "name": "stdout",
     "output_type": "stream",
     "text": [
      "accuracy from Adaboost classifier is 62.68656716417911\n"
     ]
    }
   ],
   "source": [
    "from sklearn.ensemble import AdaBoostClassifier\n",
    "\n",
    "ada_classify= AdaBoostClassifier(n_estimators=300, learning_rate=.1)\n",
    "ada_classify.fit(tfidf_train_data, y_train)\n",
    "\n",
    "prediction= ada_classify.predict(tfidf_test_data)\n",
    "print(f'accuracy from Adaboost classifier is {accuracy_score(y_test, prediction)*100}') # seems not getting good accuracy"
   ]
  },
  {
   "cell_type": "markdown",
   "metadata": {},
   "source": [
    "#### Gradient Boosting"
   ]
  },
  {
   "cell_type": "code",
   "execution_count": 80,
   "metadata": {},
   "outputs": [
    {
     "name": "stdout",
     "output_type": "stream",
     "text": [
      "accuracy from Adaboost classifier is 89.55223880597015\n"
     ]
    }
   ],
   "source": [
    "from sklearn.ensemble import GradientBoostingClassifier\n",
    "\n",
    "gradient_classify= GradientBoostingClassifier(learning_rate=.1, n_estimators=500)\n",
    "\n",
    "gradient_classify.fit(tfidf_train_data, y_train)\n",
    "\n",
    "prediction= gradient_classify.predict(tfidf_test_data)\n",
    "print(f'accuracy from Adaboost classifier is {accuracy_score(y_test, prediction)*100}')"
   ]
  },
  {
   "cell_type": "markdown",
   "metadata": {},
   "source": [
    "## testing on real world data"
   ]
  },
  {
   "cell_type": "code",
   "execution_count": 123,
   "metadata": {},
   "outputs": [
    {
     "data": {
      "text/plain": [
       "'Songs'"
      ]
     },
     "execution_count": 123,
     "metadata": {},
     "output_type": "execute_result"
    }
   ],
   "source": [
    "# a_title= 'How Expensive is it to Travel Japan? | Budget Travel Tips'\n",
    "# a_descrip= 'Travelling Japan is cheaper and easier than ever before thanks to a recent boom in tourism.\\\n",
    "# ► SUBSCRIBE for more Japan tips! https://goo.gl/Kq44VX\\\n",
    "# ► GET inspiration for your trip: http://seejapan.co.uk\\\n",
    "# ► DISCOVER daily ideas for your trip: http://facebook.com/visitjapanuk\\\n",
    "# ► VISIT your Japan tourism site: https://www.jnto.go.jp/\\\n",
    "# Caption author (Ukrainian)\\\n",
    "# Roman Hulovatyi\\\n",
    "# Caption authors (Portuguese (Brazil))\\\n",
    "# Marina Emi\\\n",
    "# Samuel Johnson\\\n",
    "# Caption author (German)\\\n",
    "# Denis Beck\\\n",
    "# Caption author (Spanis)'\n",
    "\n",
    "a_title='Dil Bechara- Khulke Jeene Ka (Official)|Sushant, Sanjana|A.R Rahman|Arijit, Shashaa|Amitabh B|Mukesh'\n",
    "a_descrip= 'Shot in the love capital of the world, Khulke Jeene Ka is about living life to the fullest!\\\n",
    "Arijit Singh and Shashaa Tirupati instill beautiful emotions into this melody '\n",
    "\n",
    "\n",
    "\n",
    "a_title= re.sub('\\\\n',' ',str(a_title))# remove '\\\\n'\n",
    "a_title= re.sub('http://\\S+|https://\\S+', '', str(a_title))# remove http links in the text\n",
    "a_title= re.sub(r'\\d+(\\.\\d+)?', 'number', str(a_title)) # Replace digits with 'number'\n",
    "a_title= re.sub(r'\\s+', ' ', str(a_title)) # Replace whitespace between terms with a single space\n",
    "a_title= re.sub(r'[^\\w\\d\\s]', '',str(a_title)) # removing special characther like !, |\n",
    "\n",
    "# print(a_title)\n",
    "\n",
    "a_descrip= re.sub('\\\\n',' ',str(a_descrip))# remove '\\\\n'\n",
    "a_descrip= re.sub('http://\\S+|https://\\S+', '', str(a_descrip))# remove http links in the text\n",
    "a_descrip= re.sub(r'\\d+(\\.\\d+)?', 'number', str(a_descrip)) # Replace digits with 'number'\n",
    "a_descrip= re.sub(r'\\s+', ' ', str(a_descrip)) # Replace whitespace between terms with a single space\n",
    "a_descrip= re.sub(r'[^\\w\\d\\s]', '',str(a_descrip)) # removing special characther like !, |\n",
    "\n",
    "# print(a_descrip)\n",
    "\n",
    "ps= PorterStemmer()\n",
    "\n",
    "corpus = []\n",
    "\n",
    "clean_data = a_title\n",
    "clean_data = clean_data.lower()\n",
    "clean_data = clean_data.split()\n",
    "clean_data = [ps.stem(word) for word in clean_data if not word in stopwords.words('english')]\n",
    "clean_data = ' '.join(clean_data)\n",
    "corpus.append(clean_data)\n",
    "# print((corpus))\n",
    "\n",
    "corpus1 = []\n",
    "clean_data = a_descrip\n",
    "clean_data = clean_data.lower()\n",
    "clean_data = clean_data.split()\n",
    "clean_data = [ps.stem(word) for word in clean_data if not word in stopwords.words('english')]\n",
    "clean_data = ' '.join(clean_data)\n",
    "corpus1.append(clean_data)\n",
    "# print((corpus1))\n",
    "\n",
    "\n",
    "merge_text= corpus+ corpus1\n",
    "\n",
    "merge_text= ' '.join(merge_text)\n",
    "# print(merge_text)\n",
    "\n",
    "tfidf_loaded_model = pickle.load(open('tfidf.pickle', 'rb'))\n",
    "\n",
    "test_data= tfidf_loaded_model.transform([merge_text])\n",
    "\n",
    "xgb_loaded_model = pickle.load(open('xgboost_model.pickle', 'rb'))\n",
    "\n",
    "pred= xgb_loaded_model.predict(test_data)\n",
    "\n",
    "# print(pred)\n",
    "\n",
    "predictions_test = le.inverse_transform(pred) # reversing to orginal data\n",
    "\n",
    "predictions_test[0]  # Predicted correct"
   ]
  },
  {
   "cell_type": "code",
   "execution_count": null,
   "metadata": {},
   "outputs": [],
   "source": []
  }
 ],
 "metadata": {
  "kernelspec": {
   "display_name": "Python 3",
   "language": "python",
   "name": "python3"
  },
  "language_info": {
   "codemirror_mode": {
    "name": "ipython",
    "version": 3
   },
   "file_extension": ".py",
   "mimetype": "text/x-python",
   "name": "python",
   "nbconvert_exporter": "python",
   "pygments_lexer": "ipython3",
   "version": "3.7.6"
  }
 },
 "nbformat": 4,
 "nbformat_minor": 4
}
